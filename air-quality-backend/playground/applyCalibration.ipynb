{
 "cells": [
  {
   "cell_type": "code",
   "execution_count": null,
   "metadata": {},
   "outputs": [],
   "source": [
    "from SOAI.handler.SOAIDiskHandler import SOAIDiskHandler\n",
    "from SOAI.handler.SOAIDBHandler import SOAIDBHandler\n",
    "from SOAI.sensors.SOAISensorNetwork import SOAISensorNetwork\n",
    "\n",
    "import os"
   ]
  },
  {
   "cell_type": "markdown",
   "metadata": {},
   "source": [
    "### Load data (e.g. disk)"
   ]
  },
  {
   "cell_type": "code",
   "execution_count": null,
   "metadata": {},
   "outputs": [],
   "source": [
    "diskHandler = SOAIDiskHandler()\n",
    "  \n",
    "dfOpenAir = diskHandler.fGetOpenAir(os.environ.get(\"SOAI\") + \"/data/openair/\", selectValidData=True) # Measurments\n",
    "dfOpenAirSensors = diskHandler.fGetOpenAirSensors() # Locations of the sensors\n",
    "  \n",
    "dfLanuv = diskHandler.fGetLanuv(os.environ.get(\"SOAI\") + \"/data/lanuv/\") # Measurments\n",
    "dfLanuvSensors = diskHandler.fGetLanuvSensors() # Locations of the sensors"
   ]
  },
  {
   "cell_type": "markdown",
   "metadata": {},
   "source": [
    "# Apply calibration"
   ]
  },
  {
   "cell_type": "markdown",
   "metadata": {},
   "source": [
    "### Start sensor network"
   ]
  },
  {
   "cell_type": "code",
   "execution_count": null,
   "metadata": {},
   "outputs": [],
   "source": [
    "# The config file exhibits all information about active sensors, the calibration model etc.\n",
    "network = SOAISensorNetwork(os.environ.get(\"SOAI\") + \"/configs/sensorNetwork.conf\")\n",
    "\n",
    "# Check the sensor network for consistency\n",
    "network.fCheckNetwork()"
   ]
  },
  {
   "cell_type": "markdown",
   "metadata": {},
   "source": [
    "### Convert measurments to NO2"
   ]
  },
  {
   "cell_type": "code",
   "execution_count": null,
   "metadata": {},
   "outputs": [],
   "source": [
    "data = network.fDataToNO2(dfOpenAir[1:100])"
   ]
  },
  {
   "cell_type": "code",
   "execution_count": null,
   "metadata": {},
   "outputs": [],
   "source": [
    "data.head()"
   ]
  },
  {
   "cell_type": "code",
   "execution_count": null,
   "metadata": {},
   "outputs": [],
   "source": []
  }
 ],
 "metadata": {
  "kernelspec": {
   "display_name": "Python 3",
   "language": "python",
   "name": "python3"
  },
  "language_info": {
   "codemirror_mode": {
    "name": "ipython",
    "version": 3
   },
   "file_extension": ".py",
   "mimetype": "text/x-python",
   "name": "python",
   "nbconvert_exporter": "python",
   "pygments_lexer": "ipython3",
   "version": "3.7.3"
  }
 },
 "nbformat": 4,
 "nbformat_minor": 2
}
