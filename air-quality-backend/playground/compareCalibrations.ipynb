{
 "cells": [
  {
   "cell_type": "markdown",
   "metadata": {},
   "source": [
    "# Compare Calibrations"
   ]
  },
  {
   "cell_type": "markdown",
   "metadata": {},
   "source": [
    "**Import modules**"
   ]
  },
  {
   "cell_type": "code",
   "execution_count": null,
   "metadata": {},
   "outputs": [],
   "source": [
    "from SOAI.handler.SOAIDiskHandler import SOAIDiskHandler\n",
    "from SOAI.handler.SOAIDBHandler import SOAIDBHandler\n",
    "from SOAI.sensors.SOAISensorNetwork import SOAISensorNetwork\n",
    "  \n",
    "import os    \n",
    "import numpy as np\n",
    "import pandas as pd\n",
    "import matplotlib.pyplot as plt\n",
    "from matplotlib.pyplot import subplots\n",
    "    \n",
    "import logging\n",
    "logger = logging.getLogger()"
   ]
  },
  {
   "cell_type": "markdown",
   "metadata": {},
   "source": [
    "# $\\color{red}{\\text{Set up everything}}$"
   ]
  },
  {
   "cell_type": "markdown",
   "metadata": {},
   "source": [
    "**Load data from disk**"
   ]
  },
  {
   "cell_type": "code",
   "execution_count": null,
   "metadata": {},
   "outputs": [],
   "source": [
    "diskHandler = SOAIDiskHandler()\n",
    " \n",
    "# OpenAir data\n",
    "dfOpenAir = diskHandler.fGetOpenAir()\n",
    "dfOpenAir = dfOpenAir.drop([\"pm10\", \"pm25\", \"rssi\"], axis=1)\n",
    "dfOpenAirSensors = diskHandler.fGetOpenAirSensors()\n",
    "  \n",
    "# Lanuv data\n",
    "dfLanuv = diskHandler.fGetLanuv()\n",
    "dfLanuv = dfLanuv.drop([\"NO\", \"OZON\"], axis=1)\n",
    "dfLanuvSensors = diskHandler.fGetLanuvSensors()"
   ]
  },
  {
   "cell_type": "markdown",
   "metadata": {},
   "source": [
    "**Start sensor network**\n",
    "\n",
    "This will read the given config file and start each sensor. All calibration models will be loaded as well."
   ]
  },
  {
   "cell_type": "code",
   "execution_count": null,
   "metadata": {},
   "outputs": [],
   "source": [
    "network = SOAISensorNetwork(os.environ.get(\"SOAI\")+\"/configs/sensorNetwork.conf\")\n",
    "network.fCheckNetwork()  # Checks if everything is consistent"
   ]
  },
  {
   "cell_type": "markdown",
   "metadata": {},
   "source": [
    "# $\\color{red}{\\text{Examine the calibrations}}$\n",
    "\n",
    "$\\color{red}{\\text{In the following we will deal with SOAISensor and their inherited classes.}}$"
   ]
  },
  {
   "cell_type": "markdown",
   "metadata": {},
   "source": [
    "**Select OpenAir and Lanuv sensor which have a close distance.**\n",
    "\n",
    "Since the distance between a OpenAir and Lanuv sensor will have a strong impact on the calibration, it is convinient to start with the best case scenarios."
   ]
  },
  {
   "cell_type": "code",
   "execution_count": null,
   "metadata": {
    "scrolled": true
   },
   "outputs": [],
   "source": [
    "# Each returned element is a list with N (function argument) elements\n",
    "sensorsOpenAir, sensorsLanuv, distances = network.fGetSmallestSensorPairs(\"OpenAirCologne\", \"Lanuv\", N=5)\n",
    "\n",
    "# Explicitly find the closest pair of sensors\n",
    "idxClosest = np.argmin(distances)\n",
    "closestOpenAirSensor = sensorsOpenAir[idxClosest]\n",
    "closestLanuvSensor = sensorsLanuv[idxClosest]"
   ]
  },
  {
   "cell_type": "markdown",
   "metadata": {},
   "source": [
    "**For each element filter the initial data (retrieved from the SOAIDiskHandler).**\n",
    "\n",
    "Save each data frame as an element in a list."
   ]
  },
  {
   "cell_type": "code",
   "execution_count": null,
   "metadata": {},
   "outputs": [],
   "source": [
    "listOpenAirData = [dfOpenAir[dfOpenAir[\"sensorID\"] == sensor.fGetID()] for sensor in sensorsOpenAir]\n",
    "listLanuvData = [dfLanuv[dfLanuv[\"sensorID\"] == sensor.fGetID()] for sensor in sensorsLanuv]"
   ]
  },
  {
   "cell_type": "markdown",
   "metadata": {},
   "source": [
    "**For each sensor and their data, apply the calibration model.** \n",
    "\n",
    "The calibration models are loaded by the SOAISensorNetwork. The resulting NO2 values in the data frame as well."
   ]
  },
  {
   "cell_type": "code",
   "execution_count": null,
   "metadata": {
    "scrolled": false
   },
   "outputs": [],
   "source": [
    "for sensor, data in zip(sensorsOpenAir, listOpenAirData):\n",
    "    no2 = np.ones((len(data)))*(-1) # Intermediate saving array for resulting NO2 values\n",
    "    \n",
    "    # Check if sensor is active (e.g. has calibration model assigned)\n",
    "    if sensor.fIsActive() is False:\n",
    "        logger.warning(f\"Can't process unactive sensor with feed {sensor.fGetID()}.\")\n",
    "        continue\n",
    "        \n",
    "    # Apply the calibration model\n",
    "    countTEMP = 0\n",
    "    for k, row in data.iterrows():\n",
    "        no2[countTEMP] = sensor.fDataToNO2(row)\n",
    "        countTEMP += 1\n",
    "        \n",
    "    # Set the no2 values as a column in the data frame\n",
    "    data.loc[:,\"no2\"] = no2\n",
    "    \n",
    "    print(sensor.fGetID())\n",
    "    print(data)"
   ]
  },
  {
   "cell_type": "markdown",
   "metadata": {},
   "source": [
    "**Do the very same again, but use always the calibration model of the closest sensor pair.**\n",
    "\n",
    "The closest sensor pair is already determined above."
   ]
  },
  {
   "cell_type": "code",
   "execution_count": null,
   "metadata": {
    "scrolled": true
   },
   "outputs": [],
   "source": [
    "for sensor, data in zip(sensorsOpenAir, listOpenAirData):\n",
    "    no2 = np.ones((len(data)))*(-1) # Intermediate saving array for resulting NO2 values\n",
    "    \n",
    "    # Check if sensor is active (e.g. has calibration model assigned)\n",
    "    if sensor.fIsActive() is False:\n",
    "        logger.warning(f\"Can't process unactive sensor with feed {sensor.fGetID()}.\")\n",
    "        continue\n",
    "        \n",
    "    # Set a new calibration model, which is taken from the smalles sensor pair\n",
    "    sensor.fSetCalibration(closestOpenAirSensor.fGetCalibration())\n",
    "        \n",
    "    # Apply the calibration model\n",
    "    countTEMP = 0\n",
    "    for k, row in data.iterrows():\n",
    "        no2[countTEMP] = sensor.fDataToNO2(row)\n",
    "        countTEMP += 1\n",
    "        \n",
    "    # Set the no2 values as a column in the data frame\n",
    "    data.loc[:,\"no2_bestCalib\"] = no2"
   ]
  },
  {
   "cell_type": "markdown",
   "metadata": {},
   "source": [
    "**The calibrated data is now combined with the Lanuv data.**\n",
    "\n",
    "This is needed for a good comparison later on."
   ]
  },
  {
   "cell_type": "code",
   "execution_count": null,
   "metadata": {},
   "outputs": [],
   "source": [
    "listCombinedData = []\n",
    "for dataOpen, dataLanuv in zip(listOpenAirData, listLanuvData):\n",
    "    # Resample the time index, since they could have different missing values.\n",
    "    # After resampling, the index axis should match (nearly).\n",
    "    dataOpen.resample(\"1h\").mean()\n",
    "    dataLanuv.resample(\"1h\").mean()\n",
    "    \n",
    "    # Since one sensor could have measured longer/shorter the intersection of the index values needs to be determined.\n",
    "    timeMin = max(dataOpen.index.min(), dataLanuv.index.min())\n",
    "    timeMax = min(dataOpen.index.max(), dataLanuv.index.max())\n",
    "    dataLanuv = dataLanuv.loc[(dataLanuv.index >= timeMin) & (dataLanuv.index <= timeMax)]\n",
    "    dataOpen = dataOpen.loc[(dataOpen.index >= timeMin) & (dataOpen.index <= timeMax)]\n",
    "    \n",
    "    # Fill all the important values in a new data frame\n",
    "    dataCombined = pd.DataFrame(index=dataOpen.index)\n",
    "    dataCombined[\"r2\"] = dataOpen[\"r2\"]\n",
    "    dataCombined[\"temp\"] = dataOpen[\"temp\"]\n",
    "    dataCombined[\"hum\"] = dataOpen[\"hum\"]\n",
    "    dataCombined[\"no2\"] = dataOpen[\"no2\"]\n",
    "    dataCombined[\"no2_bestCalib\"] = dataOpen[\"no2_bestCalib\"]\n",
    "    dataCombined[\"no2_lanuv\"] = dataLanuv[\"no2\"]\n",
    "    \n",
    "    # Append to the list\n",
    "    listCombinedData.append(dataCombined)"
   ]
  },
  {
   "cell_type": "markdown",
   "metadata": {},
   "source": [
    "# $\\color{red}{\\text{Visualization}}$"
   ]
  },
  {
   "cell_type": "markdown",
   "metadata": {},
   "source": [
    "**Comparison of the r2 values of the intrinsic sensor data.**"
   ]
  },
  {
   "cell_type": "code",
   "execution_count": null,
   "metadata": {},
   "outputs": [],
   "source": [
    "# Comparison of the r2 value\n",
    "fig, ax = subplots()\n",
    "for i, data in enumerate(listCombinedData):\n",
    "    data[\"r2\"].plot(figsize=(20,10), fontsize=20, ax=ax)\n",
    "    \n",
    "ax.set_title(\"Comparison of the r2 value\", fontsize=25)\n",
    "ax.set_ylabel(\"r2\", fontsize=20)\n",
    "ax.set_xlabel(\"\")\n",
    "ax.legend([sensor.fGetID() for sensor in sensorsOpenAir], loc='upper right', fontsize=20)\n",
    "plt.show()\n",
    "\n",
    "# Comparison of the temperature\n",
    "fig, ax = subplots()\n",
    "for i, data in enumerate(listCombinedData):\n",
    "    data[\"temp\"].plot(figsize=(20,10), fontsize=20, ax=ax)\n",
    "    \n",
    "ax.set_title(\"Comparison of the temperature\", fontsize=25)\n",
    "ax.set_ylabel(\"temp\", fontsize=20)\n",
    "ax.set_xlabel(\"\")\n",
    "ax.legend([sensor.fGetID() for sensor in sensorsOpenAir], loc='upper right', fontsize=20)\n",
    "plt.show()\n",
    "\n",
    "# Comparison of the humidity\n",
    "fig, ax = subplots()\n",
    "for i, data in enumerate(listCombinedData):\n",
    "    data[\"hum\"].plot(figsize=(20,10), fontsize=20, ax=ax)\n",
    "    \n",
    "ax.set_title(\"Comparison of the humidity\", fontsize=25)\n",
    "ax.set_ylabel(\"hum\", fontsize=20)\n",
    "ax.set_xlabel(\"\")\n",
    "ax.legend([sensor.fGetID() for sensor in sensorsOpenAir], loc='upper left', fontsize=20)\n",
    "plt.show()"
   ]
  },
  {
   "cell_type": "markdown",
   "metadata": {},
   "source": [
    "**Comparison of the calibrations to the Lanuv data.**"
   ]
  },
  {
   "cell_type": "code",
   "execution_count": null,
   "metadata": {
    "scrolled": false
   },
   "outputs": [],
   "source": [
    "for i, data in enumerate(listCombinedData):\n",
    "    fig, ax = subplots()\n",
    "    data[\"no2\"].plot(figsize=(20,10), fontsize=20, ax=ax)\n",
    "    data[\"no2_bestCalib\"].plot(figsize=(20,10), fontsize=20, ax=ax)\n",
    "    data[\"no2_lanuv\"].plot(figsize=(20,10), fontsize=20, ax=ax)\n",
    "    ax.set_ylabel(\"NO2\", fontsize=20)\n",
    "    ax.legend([\"NO2 own calibration\", \"NO2 best calibration\", \"NO2 Lanuv\"], loc='upper left', fontsize=20)\n",
    "    ax.set_title(distances[i], fontsize=20)\n",
    "    plt.show()"
   ]
  },
  {
   "cell_type": "code",
   "execution_count": null,
   "metadata": {},
   "outputs": [],
   "source": []
  }
 ],
 "metadata": {
  "kernelspec": {
   "display_name": "Python 3",
   "language": "python",
   "name": "python3"
  },
  "language_info": {
   "codemirror_mode": {
    "name": "ipython",
    "version": 3
   },
   "file_extension": ".py",
   "mimetype": "text/x-python",
   "name": "python",
   "nbconvert_exporter": "python",
   "pygments_lexer": "ipython3",
   "version": "3.7.3"
  }
 },
 "nbformat": 4,
 "nbformat_minor": 2
}
