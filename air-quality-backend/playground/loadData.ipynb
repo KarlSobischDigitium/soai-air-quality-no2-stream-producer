{
 "cells": [
  {
   "cell_type": "code",
   "execution_count": null,
   "metadata": {},
   "outputs": [],
   "source": [
    "from SOAI.handler.SOAIDiskHandler import SOAIDiskHandler\n",
    "from SOAI.handler.SOAIDBHandler import SOAIDBHandler\n",
    "from SOAI.sensors.SOAISensorNetwork import SOAISensorNetwork\n",
    "\n",
    "import os"
   ]
  },
  {
   "cell_type": "markdown",
   "metadata": {},
   "source": [
    "### Disk handler"
   ]
  },
  {
   "cell_type": "code",
   "execution_count": null,
   "metadata": {},
   "outputs": [],
   "source": [
    "diskHandler = SOAIDiskHandler()\n",
    " \n",
    "# Openair sensors\n",
    "dfOpenAir = diskHandler.fGetOpenAir(os.environ.get(\"SOAI\") + \"/data/openair/\", selectValidData=True) # Measurments\n",
    "dfOpenAirSensors = diskHandler.fGetOpenAirSensors() # Locations of the sensors\n",
    "  \n",
    "# Lanuv sensors\n",
    "dfLanuv = diskHandler.fGetLanuv(os.environ.get(\"SOAI\") + \"/data/lanuv/\") # Measurments\n",
    "dfLanuvSensors = diskHandler.fGetLanuvSensors() # Locations of the sensors"
   ]
  },
  {
   "cell_type": "code",
   "execution_count": null,
   "metadata": {},
   "outputs": [],
   "source": [
    "# Traffic\n",
    "dfTraffic = diskHandler.fGetTrafficData()"
   ]
  },
  {
   "cell_type": "markdown",
   "metadata": {},
   "source": [
    "### DB handler"
   ]
  },
  {
   "cell_type": "code",
   "execution_count": null,
   "metadata": {},
   "outputs": [],
   "source": [
    "dbHandler = SOAIDBHandler()\n",
    "dbHandler.fSetupDB() # The DB needs to be set up (credentials need to be provided with environment variables, check README)\n",
    "\n",
    "dfOpenAir_fromDB = dbHandler.fGetOpenAir(dStart=15, granularity=\"5m\") # Measurments\n",
    "dfLanuv_fromDB = dbHandler.fGetLanuv(dStart=30) # Measurments"
   ]
  },
  {
   "cell_type": "code",
   "execution_count": null,
   "metadata": {},
   "outputs": [],
   "source": [
    "dfLanuv_fromDB"
   ]
  },
  {
   "cell_type": "code",
   "execution_count": null,
   "metadata": {},
   "outputs": [],
   "source": [
    "dfOpenAir_fromDB"
   ]
  },
  {
   "cell_type": "code",
   "execution_count": null,
   "metadata": {},
   "outputs": [],
   "source": []
  }
 ],
 "metadata": {
  "kernelspec": {
   "display_name": "Python 3",
   "language": "python",
   "name": "python3"
  },
  "language_info": {
   "codemirror_mode": {
    "name": "ipython",
    "version": 3
   },
   "file_extension": ".py",
   "mimetype": "text/x-python",
   "name": "python",
   "nbconvert_exporter": "python",
   "pygments_lexer": "ipython3",
   "version": "3.7.3"
  }
 },
 "nbformat": 4,
 "nbformat_minor": 2
}
