{
 "cells": [
  {
   "cell_type": "code",
   "execution_count": 1,
   "metadata": {},
   "outputs": [
    {
     "name": "stdout",
     "output_type": "stream",
     "text": [
      "\u001b[32mINFO - \u001b[32m__init__ : \u001b[32m<module>() - \u001b[32mUse /home/nils/workspace/school_of_ai/projects/air-quality-backend/SOAI/.. as project path.\u001b[0m\n",
      "\u001b[33mWARNING - \u001b[33m__init__ : \u001b[33m<module>() - \u001b[33mSOAI_MODEL_PATH not set\u001b[0m\n",
      "\u001b[32mINFO - \u001b[32m__init__ : \u001b[32m<module>() - \u001b[32mSOAI env var is set to /home/nils/workspace/school_of_ai/projects/air-quality-backend/SOAI/..\u001b[0m\n",
      "\u001b[37mDEBUG - \u001b[37m__init__ : \u001b[37mwrapper() - \u001b[37m$HOME=/home/nils\u001b[0m\n",
      "\u001b[37mDEBUG - \u001b[37m__init__ : \u001b[37mwrapper() - \u001b[37mCONFIGDIR=/home/nils/.config/matplotlib\u001b[0m\n",
      "\u001b[37mDEBUG - \u001b[37m__init__ : \u001b[37mwrapper() - \u001b[37mmatplotlib data path: /home/nils/workspace/school_of_ai/projects/air-quality-backend/env/air/lib/python3.7/site-packages/matplotlib/mpl-data\u001b[0m\n",
      "\u001b[37mDEBUG - \u001b[37m__init__ : \u001b[37mrc_params_from_file() - \u001b[37mloaded rc file /home/nils/workspace/school_of_ai/projects/air-quality-backend/env/air/lib/python3.7/site-packages/matplotlib/mpl-data/matplotlibrc\u001b[0m\n",
      "\u001b[37mDEBUG - \u001b[37m__init__ : \u001b[37m<module>() - \u001b[37mmatplotlib version 3.1.2\u001b[0m\n",
      "\u001b[37mDEBUG - \u001b[37m__init__ : \u001b[37m<module>() - \u001b[37minteractive is False\u001b[0m\n",
      "\u001b[37mDEBUG - \u001b[37m__init__ : \u001b[37m<module>() - \u001b[37mplatform is linux\u001b[0m\n",
      "\u001b[37mDEBUG - \u001b[37m__init__ : \u001b[37m<module>() - \u001b[37mloaded modules: ['sys', 'builtins', '_frozen_importlib', '_imp', '_thread', '_warnings', '_weakref', 'zipimport', '_frozen_importlib_external', '_io', 'marshal', 'posix', 'encodings', 'codecs', '_codecs', 'encodings.aliases', 'encodings.utf_8', '_signal', '__main__', 'encodings.latin_1', 'io', 'abc', '_abc', '_bootlocale', '_locale', 'site', 'os', 'stat', '_stat', 'posixpath', 'genericpath', 'os.path', '_collections_abc', 'types', 'importlib', 'importlib._bootstrap', 'importlib._bootstrap_external', 'warnings', 'importlib.util', 'importlib.abc', 'importlib.machinery', 'contextlib', 'collections', 'operator', '_operator', 'keyword', 'heapq', '_heapq', 'itertools', 'reprlib', '_collections', 'functools', '_functools', 'google', 'mpl_toolkits', 'sitecustomize', 'runpy', 'pkgutil', 'weakref', '_weakrefset', 'ipykernel', 'ipykernel._version', 'ipykernel.connect', '__future__', 'json', 'json.decoder', 're', 'enum', 'sre_compile', '_sre', 'sre_parse', 'sre_constants', 'copyreg', 'json.scanner', '_json', 'json.encoder', 'subprocess', 'time', 'signal', 'errno', '_posixsubprocess', 'select', 'selectors', 'collections.abc', 'math', 'threading', 'traceback', 'linecache', 'tokenize', 'token', 'IPython', 'IPython.core', 'IPython.core.getipython', 'IPython.core.release', 'IPython.core.application', 'atexit', 'copy', 'glob', 'fnmatch', 'logging', 'string', '_string', 'shutil', 'zlib', 'bz2', '_compression', '_bz2', 'lzma', '_lzma', 'pwd', 'grp', 'traitlets', 'traitlets.traitlets', 'inspect', 'dis', 'opcode', '_opcode', 'six', 'struct', '_struct', 'traitlets.utils', 'traitlets.utils.getargspec', 'traitlets.utils.importstring', 'ipython_genutils', 'ipython_genutils._version', 'ipython_genutils.py3compat', 'ipython_genutils.encoding', 'locale', 'platform', 'traitlets.utils.sentinel', 'traitlets.utils.bunch', 'traitlets._version', 'traitlets.config', 'traitlets.config.application', 'decorator', 'traitlets.config.configurable', 'traitlets.config.loader', 'argparse', 'gettext', 'ast', '_ast', 'ipython_genutils.path', 'random', 'hashlib', '_hashlib', '_blake2', '_sha3', 'bisect', '_bisect', '_random', 'ipython_genutils.text', 'textwrap', 'ipython_genutils.importstring', 'IPython.core.crashhandler', 'pprint', 'IPython.core.ultratb', 'pydoc', 'urllib', 'urllib.parse', 'IPython.core.debugger', 'bdb', 'IPython.utils', 'IPython.utils.PyColorize', 'IPython.utils.coloransi', 'IPython.utils.ipstruct', 'IPython.utils.colorable', 'pygments', 'pygments.util', 'IPython.utils.py3compat', 'IPython.utils.encoding', 'IPython.core.excolors', 'IPython.testing', 'IPython.testing.skipdoctest', 'pdb', 'cmd', 'code', 'codeop', 'IPython.core.display_trap', 'IPython.utils.path', 'IPython.utils.process', 'IPython.utils._process_posix', 'pexpect', 'pexpect.exceptions', 'pexpect.utils', 'pexpect.expect', 'pexpect.pty_spawn', 'pty', 'tty', 'termios', 'ptyprocess', 'ptyprocess.ptyprocess', 'fcntl', 'resource', 'ptyprocess.util', 'pexpect.spawnbase', 'pexpect.run', 'IPython.utils._process_common', 'shlex', 'IPython.utils.decorators', 'IPython.utils.data', 'IPython.utils.terminal', 'IPython.utils.sysinfo', 'IPython.utils._sysinfo', 'IPython.core.profiledir', 'IPython.paths', 'tempfile', 'IPython.utils.importstring', 'IPython.terminal', 'IPython.terminal.embed', 'IPython.core.compilerop', 'IPython.core.magic_arguments', 'IPython.core.error', 'IPython.utils.text', 'pathlib', 'ntpath', 'IPython.core.magic', 'getopt', 'IPython.core.oinspect', 'typing', 'typing.io', 'typing.re', 'IPython.core.page', 'IPython.core.display', 'binascii', 'mimetypes', 'IPython.lib', 'IPython.lib.security', 'getpass', 'IPython.lib.pretty', 'datetime', '_datetime', 'IPython.utils.openpy', 'IPython.utils.dir2', 'IPython.utils.wildcard', 'pygments.lexers', 'pygments.lexers._mapping', 'pygments.modeline', 'pygments.plugin', 'pygments.lexers.python', 'pygments.lexer', 'pygments.filter', 'pygments.filters', 'pygments.token', 'pygments.regexopt', 'pygments.unistring', 'pygments.formatters', 'pygments.formatters._mapping', 'pygments.formatters.html', 'pygments.formatter', 'pygments.styles', 'IPython.core.inputtransformer2', 'IPython.core.interactiveshell', 'pickleshare', 'pickle', '_compat_pickle', '_pickle', 'IPython.core.prefilter', 'IPython.core.autocall', 'IPython.core.macro', 'IPython.core.splitinput', 'IPython.core.alias', 'IPython.core.builtin_trap', 'IPython.core.events', 'backcall', 'backcall.backcall', 'IPython.core.displayhook', 'IPython.core.displaypub', 'IPython.core.extensions', 'IPython.core.formatters', 'IPython.utils.sentinel', 'IPython.core.history', 'sqlite3', 'sqlite3.dbapi2', '_sqlite3', 'IPython.core.logger', 'IPython.core.payload', 'IPython.core.usage', 'IPython.display', 'IPython.lib.display', 'html', 'html.entities', 'IPython.utils.io', 'IPython.utils.capture', 'IPython.utils.strdispatch', 'IPython.core.hooks', 'IPython.utils.syspathcontext', 'IPython.utils.tempdir', 'IPython.utils.contexts', 'IPython.core.async_helpers', 'IPython.terminal.interactiveshell', 'asyncio', 'asyncio.base_events', 'concurrent', 'concurrent.futures', 'concurrent.futures._base', 'socket', '_socket', 'ssl', '_ssl', 'base64', 'asyncio.constants', 'asyncio.coroutines', 'asyncio.base_futures', 'asyncio.format_helpers', 'asyncio.log', 'asyncio.events', 'contextvars', '_contextvars', 'asyncio.base_tasks', '_asyncio', 'asyncio.futures', 'asyncio.protocols', 'asyncio.sslproto', 'asyncio.transports', 'asyncio.tasks', 'asyncio.locks', 'asyncio.runners', 'asyncio.queues', 'asyncio.streams', 'asyncio.subprocess', 'asyncio.unix_events', 'asyncio.base_subprocess', 'asyncio.selector_events', 'prompt_toolkit', 'prompt_toolkit.application', 'prompt_toolkit.application.application', 'prompt_toolkit.buffer', 'six.moves', 'prompt_toolkit.application.current', 'prompt_toolkit.eventloop', 'prompt_toolkit.eventloop.async_generator', 'queue', '_queue', 'six.moves.queue', 'prompt_toolkit.eventloop.coroutine', 'prompt_toolkit.eventloop.defaults', 'prompt_toolkit.utils', 'wcwidth', 'wcwidth.wcwidth', 'wcwidth.table_wide', 'wcwidth.table_zero', 'prompt_toolkit.cache', 'prompt_toolkit.eventloop.base', 'prompt_toolkit.log', 'prompt_toolkit.eventloop.future', 'prompt_toolkit.eventloop.context', 'prompt_toolkit.eventloop.event', 'prompt_toolkit.application.run_in_terminal', 'prompt_toolkit.auto_suggest', 'prompt_toolkit.filters', 'prompt_toolkit.filters.app', 'prompt_toolkit.enums', 'prompt_toolkit.filters.base', 'prompt_toolkit.filters.cli', 'prompt_toolkit.filters.utils', 'prompt_toolkit.clipboard', 'prompt_toolkit.clipboard.base', 'prompt_toolkit.selection', 'prompt_toolkit.clipboard.in_memory', 'prompt_toolkit.completion', 'prompt_toolkit.completion.base', 'prompt_toolkit.completion.filesystem', 'prompt_toolkit.completion.fuzzy_completer', 'prompt_toolkit.document', 'prompt_toolkit.completion.word_completer', 'prompt_toolkit.history', 'prompt_toolkit.search', 'prompt_toolkit.key_binding', 'prompt_toolkit.key_binding.key_bindings', 'prompt_toolkit.keys', 'prompt_toolkit.key_binding.vi_state', 'prompt_toolkit.validation', 'prompt_toolkit.input', 'prompt_toolkit.input.base', 'prompt_toolkit.input.defaults', 'prompt_toolkit.input.typeahead', 'prompt_toolkit.key_binding.bindings', 'prompt_toolkit.key_binding.bindings.page_navigation', 'prompt_toolkit.key_binding.bindings.scroll', 'prompt_toolkit.key_binding.defaults', 'prompt_toolkit.key_binding.bindings.basic', 'prompt_toolkit.key_binding.key_processor', 'prompt_toolkit.key_binding.bindings.named_commands', 'prompt_toolkit.key_binding.bindings.completion', 'prompt_toolkit.key_binding.bindings.cpr', 'prompt_toolkit.key_binding.bindings.emacs', 'prompt_toolkit.key_binding.bindings.mouse', 'prompt_toolkit.layout', 'prompt_toolkit.layout.containers', 'prompt_toolkit.formatted_text', 'prompt_toolkit.formatted_text.ansi', 'prompt_toolkit.output', 'prompt_toolkit.output.base', 'prompt_toolkit.layout.screen', 'prompt_toolkit.output.color_depth', 'prompt_toolkit.output.defaults', 'prompt_toolkit.output.vt100', 'array', 'prompt_toolkit.styles', 'prompt_toolkit.styles.base', 'prompt_toolkit.styles.defaults', 'prompt_toolkit.styles.named_colors', 'prompt_toolkit.styles.style', 'prompt_toolkit.styles.pygments', 'prompt_toolkit.styles.style_transformation', 'colorsys', 'prompt_toolkit.formatted_text.base', 'prompt_toolkit.formatted_text.html', 'xml', 'xml.dom', 'xml.dom.domreg', 'xml.dom.minidom', 'xml.dom.minicompat', 'xml.dom.xmlbuilder', 'xml.dom.NodeFilter', 'prompt_toolkit.formatted_text.pygments', 'prompt_toolkit.formatted_text.utils', 'prompt_toolkit.mouse_events', 'prompt_toolkit.layout.controls', 'prompt_toolkit.lexers', 'prompt_toolkit.lexers.base', 'prompt_toolkit.lexers.pygments', 'prompt_toolkit.layout.processors', 'prompt_toolkit.layout.utils', 'prompt_toolkit.layout.dimension', 'prompt_toolkit.layout.margins', 'prompt_toolkit.layout.layout', 'prompt_toolkit.layout.menus', 'prompt_toolkit.renderer', 'prompt_toolkit.layout.mouse_handlers', 'prompt_toolkit.key_binding.bindings.vi', 'prompt_toolkit.input.vt100_parser', 'prompt_toolkit.input.ansi_escape_sequences', 'prompt_toolkit.key_binding.digraphs', 'prompt_toolkit.key_binding.emacs_state', 'prompt_toolkit.layout.dummy', 'prompt_toolkit.application.dummy', 'prompt_toolkit.shortcuts', 'prompt_toolkit.shortcuts.dialogs', 'prompt_toolkit.key_binding.bindings.focus', 'prompt_toolkit.widgets', 'prompt_toolkit.widgets.base', 'prompt_toolkit.widgets.toolbars', 'prompt_toolkit.widgets.dialogs', 'prompt_toolkit.widgets.menus', 'prompt_toolkit.shortcuts.progress_bar', 'prompt_toolkit.shortcuts.progress_bar.base', 'prompt_toolkit.shortcuts.progress_bar.formatters', 'prompt_toolkit.shortcuts.prompt', 'prompt_toolkit.key_binding.bindings.auto_suggest', 'prompt_toolkit.key_binding.bindings.open_in_editor', 'prompt_toolkit.shortcuts.utils', 'prompt_toolkit.patch_stdout', 'pygments.style', 'IPython.terminal.debugger', 'IPython.core.completer', 'unicodedata', 'IPython.core.latex_symbols', 'IPython.utils.generics', 'jedi', 'jedi.api', 'parso', 'parso.parser', 'parso.tree', 'parso._compatibility', 'parso.utils', 'parso.pgen2', 'parso.pgen2.generator', 'parso.pgen2.grammar_parser', 'parso.python', 'parso.python.tokenize', 'parso.python.token', 'parso.grammar', 'parso.python.diff', 'difflib', 'parso.python.parser', 'parso.python.tree', 'parso.python.prefix', 'parso.cache', 'gc', 'parso.python.errors', 'parso.normalizer', 'parso.python.pep8', 'parso.file_io', 'jedi._compatibility', 'jedi.file_io', 'jedi.parser_utils', 'jedi.debug', 'jedi.settings', 'jedi.cache', 'jedi.api.classes', 'jedi.inference', 'jedi.inference.imports', 'jedi.inference.sys_path', 'jedi.inference.cache', 'jedi.inference.base_value', 'jedi.common', 'jedi.common.value', 'jedi.inference.helpers', 'jedi.inference.utils', 'jedi.common.utils', 'jedi.inference.compiled', 'jedi.inference.compiled.value', 'jedi.inference.filters', 'jedi.inference.flow_analysis', 'jedi.inference.recursion', 'jedi.inference.names', 'jedi.inference.docstrings', 'jedi.inference.lazy_value', 'jedi.inference.compiled.access', 'jedi.inference.compiled.getattr_static', 'jedi.inference.signature', 'jedi.inference.context', 'jedi.inference.analysis', 'jedi.inference.gradual', 'jedi.inference.gradual.typeshed', 'jedi.inference.gradual.stub_value', 'jedi.inference.value', 'jedi.inference.value.module', 'jedi.inference.value.klass', 'jedi.inference.arguments', 'jedi.inference.value.iterable', 'jedi.inference.value.dynamic_arrays', 'jedi.inference.value.function', 'jedi.inference.parser_cache', 'jedi.inference.gradual.generics', 'jedi.plugins', 'jedi.inference.value.instance', 'jedi.inference.gradual.typing', 'jedi.inference.gradual.base', 'jedi.inference.gradual.type_var', 'jedi.inference.syntax_tree', 'jedi.inference.gradual.annotation', 'jedi.inference.param', 'jedi.inference.value.decorator', 'jedi.inference.gradual.conversion', 'jedi.api.keywords', 'pydoc_data', 'pydoc_data.topics', 'jedi.api.interpreter', 'jedi.inference.compiled.mixed', 'jedi.api.helpers', 'jedi.api.completion', 'jedi.api.file_name', 'jedi.api.environment', 'filecmp', 'jedi.inference.compiled.subprocess', 'jedi.inference.compiled.subprocess.functions', 'jedi.api.exceptions', 'jedi.api.project', 'jedi.inference.usages', 'jedi.inference.gradual.utils', 'jedi.plugins.registry', 'jedi.plugins.stdlib', 'jedi.plugins.flask', 'IPython.terminal.ptutils', 'IPython.terminal.shortcuts', 'IPython.terminal.magics', 'IPython.lib.clipboard', 'IPython.terminal.pt_inputhooks', 'IPython.terminal.prompts', 'IPython.terminal.ipapp', 'IPython.core.magics', 'IPython.core.magics.auto', 'IPython.core.magics.basic', 'IPython.core.magics.code', 'urllib.request', 'email', 'http', 'http.client', 'email.parser', 'email.feedparser', 'email.errors', 'email._policybase', 'email.header', 'email.quoprimime', 'email.base64mime', 'email.charset', 'email.encoders', 'quopri', 'email.utils', 'email._parseaddr', 'calendar', 'email.message', 'uu', 'email._encoded_words', 'email.iterators', 'urllib.error', 'urllib.response', 'IPython.core.magics.config', 'IPython.core.magics.display', 'IPython.core.magics.execution', 'timeit', 'cProfile', '_lsprof', 'profile', 'pstats', 'IPython.utils.module_paths', 'IPython.utils.timing', 'IPython.core.magics.extension', 'IPython.core.magics.history', 'IPython.core.magics.logging', 'IPython.core.magics.namespace', 'IPython.core.magics.osm', 'IPython.core.magics.packaging', 'IPython.core.magics.pylab', 'IPython.core.pylabtools', 'IPython.core.magics.script', 'IPython.lib.backgroundjobs', 'IPython.core.shellapp', 'IPython.extensions', 'IPython.extensions.storemagic', 'IPython.utils.frame', 'jupyter_client', 'jupyter_client._version', 'jupyter_client.connect', 'zmq', 'ctypes', '_ctypes', 'ctypes._endian', 'zmq.backend', 'zmq.backend.select', 'zmq.backend.cython', 'zmq.backend.cython.constants', 'cython_runtime', 'zmq.backend.cython.error', '_cython_0_29_14', 'zmq.backend.cython.message', 'zmq.error', 'zmq.backend.cython.context', 'zmq.backend.cython.socket', 'zmq.backend.cython.utils', 'zmq.backend.cython._poll', 'zmq.backend.cython._version', 'zmq.backend.cython._device', 'zmq.backend.cython._proxy_steerable', 'zmq.sugar', 'zmq.sugar.constants', 'zmq.utils', 'zmq.utils.constant_names', 'zmq.sugar.context', 'zmq.sugar.attrsettr', 'zmq.sugar.socket', 'zmq.sugar.poll', 'zmq.utils.jsonapi', 'zmq.utils.strtypes', 'zmq.sugar.frame', 'zmq.sugar.tracker', 'zmq.sugar.version', 'zmq.sugar.stopwatch', 'jupyter_client.localinterfaces', 'jupyter_core', 'jupyter_core.version', 'jupyter_core.paths', 'jupyter_client.launcher', 'traitlets.log', 'jupyter_client.client', 'jupyter_client.channels', 'jupyter_client.channelsabc', 'jupyter_client.clientabc', 'jupyter_client.manager', 'jupyter_client.kernelspec', 'jupyter_client.managerabc', 'jupyter_client.blocking', 'jupyter_client.blocking.client', 'jupyter_client.blocking.channels', 'jupyter_client.multikernelmanager', 'uuid', '_uuid', 'ipykernel.kernelapp', 'tornado', 'tornado.ioloop', 'numbers', 'tornado.concurrent', 'tornado.log', 'logging.handlers', 'tornado.escape', 'tornado.util', 'tornado.speedups', 'curses', '_curses', 'zmq.eventloop', 'zmq.eventloop.ioloop', 'tornado.platform', 'tornado.platform.asyncio', 'tornado.gen', 'zmq.eventloop.zmqstream', 'ipykernel.iostream', 'imp', 'jupyter_client.session', 'hmac', 'jupyter_client.jsonutil', 'dateutil', 'dateutil._version', 'dateutil.parser', 'dateutil.parser._parser', 'decimal', '_decimal', 'dateutil.relativedelta', 'dateutil._common', 'dateutil.tz', 'dateutil.tz.tz', 'dateutil.tz._common', 'dateutil.tz._factories', 'dateutil.parser.isoparser', '_strptime', 'jupyter_client.adapter', 'ipykernel.heartbeat', 'ipykernel.ipkernel', 'IPython.utils.tokenutil', 'ipykernel.comm', 'ipykernel.comm.manager', 'ipykernel.comm.comm', 'ipykernel.kernelbase', 'tornado.queues', 'tornado.locks', 'ipykernel.jsonutil', 'ipykernel.zmqshell', 'IPython.core.payloadpage', 'ipykernel.displayhook', 'ipykernel.eventloops', 'distutils', 'distutils.dist', 'distutils.errors', 'distutils.fancy_getopt', 'distutils.util', 'distutils.dep_util', 'distutils.spawn', 'distutils.debug', 'distutils.log', 'distutils.sysconfig', 'distutils.version', 'ipykernel.parentpoller', 'faulthandler', 'ipykernel.datapub', 'ipykernel.serialize', 'ipykernel.pickleutil', 'ipykernel.codeutil', 'IPython.core.completerlib', 'storemagic', 'ipywidgets', 'ipywidgets._version', 'ipywidgets.widgets', 'ipywidgets.widgets.widget', 'ipywidgets.widgets.domwidget', 'ipywidgets.widgets.trait_types', 'ipywidgets.widgets.util', 'ipywidgets.widgets.widget_layout', 'ipywidgets.widgets.widget_style', 'ipywidgets.widgets.valuewidget', 'ipywidgets.widgets.widget_core', 'ipywidgets.widgets.widget_bool', 'ipywidgets.widgets.widget_description', 'ipywidgets.widgets.widget_button', 'ipywidgets.widgets.widget_box', 'ipywidgets.widgets.docutils', 'ipywidgets.widgets.widget_float', 'ipywidgets.widgets.widget_int', 'ipywidgets.widgets.widget_color', 'ipywidgets.widgets.widget_date', 'ipywidgets.widgets.widget_output', 'ipywidgets.widgets.widget_selection', 'ipywidgets.widgets.widget_selectioncontainer', 'ipywidgets.widgets.widget_string', 'ipywidgets.widgets.widget_controller', 'ipywidgets.widgets.interaction', 'ipywidgets.widgets.widget_link', 'ipywidgets.widgets.widget_media', 'ipywidgets.widgets.widget_templates', 'ipywidgets.widgets.widget_upload', 'SOAI', 'logging.config', 'socketserver', 'configparser', 'colorlog', 'colorlog.colorlog', 'colorlog.escape_codes', 'colorlog.logging', 'SOAI.handler', 'SOAI.handler.SOAIDiskHandler', 'SOAI.handler.SOAIDataHandler', 'pandas', 'numpy', 'numpy._globals', 'numpy.__config__', 'numpy.version', 'numpy._distributor_init', 'numpy.core', 'numpy.core.multiarray', 'numpy.core.overrides', 'numpy.core._multiarray_umath', 'numpy.compat', 'numpy.compat._inspect', 'numpy.compat.py3k', 'numpy.core.umath', 'numpy.core.numerictypes', 'numpy.core._string_helpers', 'numpy.core._type_aliases', 'numpy.core._dtype', 'numpy.core.numeric', 'numpy.core.shape_base', 'numpy.core._asarray', 'numpy.core.fromnumeric', 'numpy.core._methods', 'numpy.core._exceptions', 'numpy.core._ufunc_config', 'numpy.core.arrayprint', 'numpy.core.defchararray', 'numpy.core.records', 'numpy.core.memmap', 'numpy.core.function_base', 'numpy.core.machar', 'numpy.core.getlimits', 'numpy.core.einsumfunc', 'numpy.core._add_newdocs', 'numpy.core._multiarray_tests', 'numpy.core._dtype_ctypes', 'numpy.core._internal', 'numpy._pytesttester', 'numpy.lib', 'numpy.lib.mixins', 'numpy.lib.scimath', 'numpy.lib.type_check', 'numpy.lib.ufunclike', 'numpy.lib.index_tricks', 'numpy.matrixlib', 'numpy.matrixlib.defmatrix', 'numpy.linalg', 'numpy.linalg.linalg', 'numpy.lib.twodim_base', 'numpy.linalg.lapack_lite', 'numpy.linalg._umath_linalg', 'numpy.lib.function_base', 'numpy.lib.histograms', 'numpy.lib.stride_tricks', 'numpy.lib.nanfunctions', 'numpy.lib.shape_base', 'numpy.lib.polynomial', 'numpy.lib.utils', 'numpy.lib.arraysetops', 'numpy.lib.npyio', 'numpy.lib.format', 'numpy.lib._datasource', 'numpy.lib._iotools', 'numpy.lib.financial', 'numpy.lib.arrayterator', 'numpy.lib.arraypad', 'numpy.lib._version', 'numpy.fft', 'numpy.fft._pocketfft', 'numpy.fft._pocketfft_internal', 'numpy.fft.helper', 'numpy.polynomial', 'numpy.polynomial.polynomial', 'numpy.polynomial.polyutils', 'numpy.polynomial._polybase', 'numpy.polynomial.chebyshev', 'numpy.polynomial.legendre', 'numpy.polynomial.hermite', 'numpy.polynomial.hermite_e', 'numpy.polynomial.laguerre', 'numpy.random', 'numpy.random._pickle', 'numpy.random.mtrand', 'numpy.random._bit_generator', 'numpy.random._common', 'secrets', 'numpy.random._bounded_integers', 'numpy.random._mt19937', 'numpy.random._philox', 'numpy.random._pcg64', 'numpy.random._sfc64', 'numpy.random._generator', 'numpy.ctypeslib', 'numpy.ma', 'numpy.ma.core', 'numpy.ma.extras', 'pytz', 'pytz.exceptions', 'pytz.lazy', 'pytz.tzinfo', 'pytz.tzfile', 'pandas.compat', 'pandas.compat.numpy', 'pandas._libs', 'pandas._libs.tslibs', 'pandas._libs.tslibs.conversion', 'pandas._libs.tslibs.c_timestamp', 'pandas._libs.tslibs.nattype', '_cython_0_29_13', 'pandas._libs.tslibs.np_datetime', 'pandas._libs.tslibs.timezones', 'pandas._libs.tslibs.tzconversion', 'pandas._libs.tslibs.timedeltas', 'pandas._libs.tslibs.offsets', 'pandas._libs.tslibs.ccalendar', 'pandas._config', 'pandas._config.config', 'pandas._config.dates', 'pandas._config.display', 'pandas._config.localization', 'pandas._libs.tslibs.strptime', 'pandas._libs.tslibs.fields', 'pandas._libs.tslibs.parsing', 'pandas._libs.tslibs.period', 'pandas._libs.tslibs.frequencies', 'pandas._libs.tslibs.timestamps', 'pandas._libs.tslibs.resolution', 'pandas._libs.hashtable', 'pandas._libs.missing', 'pandas._libs.lib', 'fractions', 'pandas._libs.tslib', 'pandas.core', 'pandas.core.config_init', 'pandas.core.api', 'pandas.core.arrays', 'pandas.core.arrays.array_', 'pandas.core.dtypes', 'pandas.core.dtypes.common', 'pandas._libs.algos', 'pandas.core.dtypes.dtypes', 'pandas._libs.interval', 'pandas.core.dtypes.generic', 'pandas.core.dtypes.base', 'pandas.errors', 'pandas.core.dtypes.inference', 'pandas._typing', 'pandas.core.arrays.base', 'pandas.compat.numpy.function', 'pandas.util', 'pandas.util._decorators', 'pandas._libs.properties', 'pandas.core.util', 'pandas.core.util.hashing', 'pandas._libs.hashing', 'pandas.core.dtypes.cast', 'pandas.core.dtypes.missing', 'pandas.util._validators', 'pandas.core.ops', 'pandas._libs.ops', 'pandas.core.common', 'pandas.core.ops.missing', 'pandas.core.ops.roperator', 'pandas.core.ops.docstrings', 'pandas.core.sorting', 'pandas.core.algorithms', 'pandas.core.indexers', 'pandas.core.arrays.categorical', 'pandas.core.accessor', 'pandas.core.base', 'pandas.core.nanops', 'pandas.compat._optional', 'pandas.core.missing', 'pandas.io', 'pandas.io.formats', 'pandas.io.formats.console', 'pandas.core.arrays.datetimes', 'pandas.core.arrays.datetimelike', 'pandas.tseries', 'pandas.tseries.frequencies', 'pandas.tseries.offsets', 'dateutil.easter', 'pandas.core.tools', 'pandas.core.tools.datetimes', 'pandas.core.arrays._ranges', 'pandas.core.arrays.integer', 'pandas.core.tools.numeric', 'pandas.core.arrays.interval', 'pandas.core.indexes', 'pandas.core.indexes.base', 'pandas._libs.index', 'pandas._libs.join', 'pandas.core.dtypes.concat', 'pandas.core.indexes.frozen', 'pandas.io.formats.printing', 'pandas.core.strings', 'pandas.core.arrays.numpy_', 'pandas.core.arrays.period', 'pandas.core.arrays.sparse', 'pandas._libs.sparse', 'pandas.core.arrays.timedeltas', 'pandas.core.groupby', 'pandas.core.groupby.generic', 'pandas.core.frame', 'pandas.core.generic', 'pandas.core.index', 'pandas.core.indexes.api', 'pandas.core.indexes.category', 'pandas.core.indexes.datetimes', 'pandas.core.indexes.datetimelike', 'pandas.core.tools.timedeltas', 'pandas.core.indexes.numeric', 'pandas.core.indexes.interval', 'pandas.util._exceptions', 'pandas.core.indexes.multi', 'pandas.core.indexes.timedeltas', 'pandas.core.indexes.period', 'pandas.core.indexes.range', 'pandas.core.indexing', 'pandas._libs.indexing', 'pandas.core.internals', 'pandas.core.internals.blocks', 'pandas._libs.internals', 'pandas.core.internals.arrays', 'pandas.core.internals.managers', 'pandas.core.internals.concat', 'pandas.io.formats.format', 'pandas.io.common', 'csv', '_csv', 'gzip', 'mmap', 'zipfile', 'pandas.core.internals.construction', 'pandas.core.series', 'pandas._libs.reshape', 'pandas.core.indexes.accessors', 'pandas.plotting', 'pandas.plotting._core', 'pandas.plotting._matplotlib', 'pandas.plotting._matplotlib.boxplot', 'matplotlib', 'matplotlib.cbook', 'matplotlib.cbook.deprecation', 'matplotlib.rcsetup', 'matplotlib.fontconfig_pattern', 'pyparsing', 'matplotlib.colors', 'matplotlib._color_data', 'cycler', 'matplotlib._version', 'matplotlib.ft2font', 'kiwisolver']\u001b[0m\n"
     ]
    },
    {
     "name": "stdout",
     "output_type": "stream",
     "text": [
      "\u001b[37mDEBUG - \u001b[37m__init__ : \u001b[37mwrapper() - \u001b[37mCACHEDIR=/home/nils/.cache/matplotlib\u001b[0m\n",
      "\u001b[37mDEBUG - \u001b[37mfont_manager : \u001b[37m<module>() - \u001b[37mUsing fontManager instance from /home/nils/.cache/matplotlib/fontlist-v310.json\u001b[0m\n"
     ]
    }
   ],
   "source": [
    "from SOAI.handler.SOAIDiskHandler import SOAIDiskHandler\n",
    "from SOAI.handler.SOAIDBHandler import SOAIDBHandler\n",
    "from SOAI.sensors.SOAISensorNetwork import SOAISensorNetwork\n",
    "\n",
    "import os"
   ]
  },
  {
   "cell_type": "markdown",
   "metadata": {},
   "source": [
    "### Load data (e.g. disk)"
   ]
  },
  {
   "cell_type": "code",
   "execution_count": 2,
   "metadata": {},
   "outputs": [
    {
     "name": "stdout",
     "output_type": "stream",
     "text": [
      "\u001b[37mDEBUG - \u001b[37mSOAIDiskHandler : \u001b[37mfGetOpenAir() - \u001b[37mLoad OpenAir Cologne data from /home/nils/workspace/school_of_ai/projects/air-quality-backend/SOAI/../data/openair/.\u001b[0m\n",
      "\u001b[37mDEBUG - \u001b[37mSOAIDiskHandler : \u001b[37mfGetOpenAir() - \u001b[37m\t- Load /home/nils/workspace/school_of_ai/projects/air-quality-backend/SOAI/../data/openair/df_openair6.parquet\u001b[0m\n",
      "\u001b[37mDEBUG - \u001b[37mSOAIDiskHandler : \u001b[37mfGetOpenAir() - \u001b[37m\t- Load /home/nils/workspace/school_of_ai/projects/air-quality-backend/SOAI/../data/openair/df_openair2.parquet\u001b[0m\n",
      "\u001b[37mDEBUG - \u001b[37mSOAIDiskHandler : \u001b[37mfGetOpenAir() - \u001b[37m\t- Load /home/nils/workspace/school_of_ai/projects/air-quality-backend/SOAI/../data/openair/df_openair4.parquet\u001b[0m\n",
      "\u001b[37mDEBUG - \u001b[37mSOAIDiskHandler : \u001b[37mfGetOpenAir() - \u001b[37m\t- Load /home/nils/workspace/school_of_ai/projects/air-quality-backend/SOAI/../data/openair/df_openair3.parquet\u001b[0m\n",
      "\u001b[37mDEBUG - \u001b[37mSOAIDiskHandler : \u001b[37mfGetOpenAir() - \u001b[37m\t- Load /home/nils/workspace/school_of_ai/projects/air-quality-backend/SOAI/../data/openair/df_openair5.parquet\u001b[0m\n",
      "\u001b[37mDEBUG - \u001b[37mSOAIDiskHandler : \u001b[37mfGetOpenAir() - \u001b[37m\t- Load /home/nils/workspace/school_of_ai/projects/air-quality-backend/SOAI/../data/openair/df_openair9.parquet\u001b[0m\n",
      "\u001b[37mDEBUG - \u001b[37mSOAIDiskHandler : \u001b[37mfGetOpenAir() - \u001b[37m\t- Load /home/nils/workspace/school_of_ai/projects/air-quality-backend/SOAI/../data/openair/df_openair1.parquet\u001b[0m\n",
      "\u001b[37mDEBUG - \u001b[37mSOAIDiskHandler : \u001b[37mfGetOpenAir() - \u001b[37m\t- Load /home/nils/workspace/school_of_ai/projects/air-quality-backend/SOAI/../data/openair/df_openair0.parquet\u001b[0m\n",
      "\u001b[37mDEBUG - \u001b[37mSOAIDiskHandler : \u001b[37mfGetOpenAir() - \u001b[37m\t- Load /home/nils/workspace/school_of_ai/projects/air-quality-backend/SOAI/../data/openair/df_openair7.parquet\u001b[0m\n",
      "\u001b[37mDEBUG - \u001b[37mSOAIDiskHandler : \u001b[37mfGetOpenAir() - \u001b[37m\t- Load /home/nils/workspace/school_of_ai/projects/air-quality-backend/SOAI/../data/openair/df_openair8.parquet\u001b[0m\n",
      "\u001b[32mINFO - \u001b[32mSOAIDataHandler : \u001b[32m_fCheckOpenAir() - \u001b[32mSelect only valid data with query {hum <= 100 and r1!=-1 and r2!=-1}\u001b[0m\n",
      "\u001b[37mDEBUG - \u001b[37mSOAIDiskHandler : \u001b[37mfGetOpenAirSensors() - \u001b[37mLoad open air sensor properties from /home/nils/workspace/school_of_ai/projects/air-quality-backend/SOAI/../data/openair/sensors.json.\u001b[0m\n",
      "\u001b[37mDEBUG - \u001b[37mSOAIDiskHandler : \u001b[37mfGetLanuv() - \u001b[37mLoad Lanuv data from /home/nils/workspace/school_of_ai/projects/air-quality-backend/SOAI/../data/lanuv/.\u001b[0m\n",
      "\u001b[37mDEBUG - \u001b[37mSOAIDiskHandler : \u001b[37mfGetLanuv() - \u001b[37m\t- Load /home/nils/workspace/school_of_ai/projects/air-quality-backend/SOAI/../data/lanuv/df_lanuv5.parquet\u001b[0m\n",
      "\u001b[37mDEBUG - \u001b[37mSOAIDiskHandler : \u001b[37mfGetLanuv() - \u001b[37m\t- Load /home/nils/workspace/school_of_ai/projects/air-quality-backend/SOAI/../data/lanuv/df_lanuv7.parquet\u001b[0m\n",
      "\u001b[37mDEBUG - \u001b[37mSOAIDiskHandler : \u001b[37mfGetLanuv() - \u001b[37m\t- Load /home/nils/workspace/school_of_ai/projects/air-quality-backend/SOAI/../data/lanuv/df_lanuv2.parquet\u001b[0m\n",
      "\u001b[37mDEBUG - \u001b[37mSOAIDiskHandler : \u001b[37mfGetLanuv() - \u001b[37m\t- Load /home/nils/workspace/school_of_ai/projects/air-quality-backend/SOAI/../data/lanuv/df_lanuv6.parquet\u001b[0m\n",
      "\u001b[37mDEBUG - \u001b[37mSOAIDiskHandler : \u001b[37mfGetLanuv() - \u001b[37m\t- Load /home/nils/workspace/school_of_ai/projects/air-quality-backend/SOAI/../data/lanuv/df_lanuv1.parquet\u001b[0m\n",
      "\u001b[37mDEBUG - \u001b[37mSOAIDiskHandler : \u001b[37mfGetLanuv() - \u001b[37m\t- Load /home/nils/workspace/school_of_ai/projects/air-quality-backend/SOAI/../data/lanuv/df_lanuv3.parquet\u001b[0m\n",
      "\u001b[37mDEBUG - \u001b[37mSOAIDiskHandler : \u001b[37mfGetLanuv() - \u001b[37m\t- Load /home/nils/workspace/school_of_ai/projects/air-quality-backend/SOAI/../data/lanuv/df_lanuv0.parquet\u001b[0m\n",
      "\u001b[37mDEBUG - \u001b[37mSOAIDiskHandler : \u001b[37mfGetLanuv() - \u001b[37m\t- Load /home/nils/workspace/school_of_ai/projects/air-quality-backend/SOAI/../data/lanuv/df_lanuv4.parquet\u001b[0m\n",
      "\u001b[37mDEBUG - \u001b[37mSOAIDiskHandler : \u001b[37mfGetLanuvSensors() - \u001b[37mLoad lanuv sensor properties from /home/nils/workspace/school_of_ai/projects/air-quality-backend/SOAI/../data/lanuv/sensors.csv.\u001b[0m\n",
      "\u001b[37mDEBUG - \u001b[37mSOAIDiskHandler : \u001b[37mfGetTrafficData() - \u001b[37mLoad traffic data from /home/nils/workspace/school_of_ai/projects/air-quality-backend/SOAI/../data/traffic/.\u001b[0m\n",
      "\u001b[31mERROR - \u001b[31mSOAIDiskHandler : \u001b[31mfGetTrafficData() - \u001b[31mNo objects to concatenate\u001b[0m\n",
      "\u001b[31mERROR - \u001b[31mSOAIDiskHandler : \u001b[31mfGetTrafficData() - \u001b[31mNo data available? Correct path?\u001b[0m\n"
     ]
    }
   ],
   "source": [
    "diskHandler = SOAIDiskHandler()\n",
    "  \n",
    "dfOpenAir = diskHandler.fGetOpenAir(os.environ.get(\"SOAI\") + \"/data/openair/\", selectValidData=True) # Measurments\n",
    "dfOpenAirSensors = diskHandler.fGetOpenAirSensors() # Locations of the sensors\n",
    "  \n",
    "dfLanuv = diskHandler.fGetLanuv(os.environ.get(\"SOAI\") + \"/data/lanuv/\") # Measurments\n",
    "dfLanuvSensors = diskHandler.fGetLanuvSensors() # Locations of the sensors\n",
    "\n",
    "dfTraffic = diskHandler.fGetTrafficData(os.environ.get(\"SOAI\") + \"/data/traffic/\")"
   ]
  },
  {
   "cell_type": "markdown",
   "metadata": {},
   "source": [
    "# Calibrate"
   ]
  },
  {
   "cell_type": "markdown",
   "metadata": {},
   "source": [
    "### Start sensor network"
   ]
  },
  {
   "cell_type": "code",
   "execution_count": 3,
   "metadata": {
    "scrolled": true
   },
   "outputs": [
    {
     "name": "stdout",
     "output_type": "stream",
     "text": [
      "\u001b[37mDEBUG - \u001b[37mSOAIOpenAirSensor : \u001b[37m__init__() - \u001b[37mSet up OpenAir Cologne Sensor with ID 807f741c at location (50.9809, 6.7851)\u001b[0m\n",
      "\u001b[37mDEBUG - \u001b[37mSOAIOpenAirSensor : \u001b[37mfLoadCalibration() - \u001b[37mSet up calibration model for OpenAir Cologne sensior with ID 807f741c at location (50.9809, 6.7851)\u001b[0m\n",
      "\u001b[33mWARNING - \u001b[33mSOAIOpenAirSensor : \u001b[33mfLoadCalibration() - \u001b[33mNo calibration model found in path /home/nils/workspace/school_of_ai/projects/air-quality-backend/SOAI/../savedModels/calibrations/v20191221/807f741c.h5. Set sensor as inactive.\u001b[0m\n",
      "\u001b[37mDEBUG - \u001b[37mSOAIOpenAirSensor : \u001b[37m__init__() - \u001b[37mSet up OpenAir Cologne Sensor with ID 807f16fc at location (50.9602, 6.9573)\u001b[0m\n",
      "\u001b[37mDEBUG - \u001b[37mSOAIOpenAirSensor : \u001b[37mfLoadCalibration() - \u001b[37mSet up calibration model for OpenAir Cologne sensior with ID 807f16fc at location (50.9602, 6.9573)\u001b[0m\n",
      "\u001b[37mDEBUG - \u001b[37mSOAIOpenAirCalibrationModel : \u001b[37mfLoad() - \u001b[37mLoad model from path /home/nils/workspace/school_of_ai/projects/air-quality-backend/SOAI/../savedModels/calibrations/v20191221/807f16fc.h5\u001b[0m\n",
      "\u001b[37mDEBUG - \u001b[37mSOAIOpenAirSensor : \u001b[37m__init__() - \u001b[37mSet up OpenAir Cologne Sensor with ID 807f6eb8 at location (50.9199, 6.9105)\u001b[0m\n",
      "\u001b[37mDEBUG - \u001b[37mSOAIOpenAirSensor : \u001b[37mfLoadCalibration() - \u001b[37mSet up calibration model for OpenAir Cologne sensior with ID 807f6eb8 at location (50.9199, 6.9105)\u001b[0m\n",
      "\u001b[33mWARNING - \u001b[33mSOAIOpenAirSensor : \u001b[33mfLoadCalibration() - \u001b[33mNo calibration model found in path /home/nils/workspace/school_of_ai/projects/air-quality-backend/SOAI/../savedModels/calibrations/v20191221/807f6eb8.h5. Set sensor as inactive.\u001b[0m\n",
      "\u001b[37mDEBUG - \u001b[37mSOAIOpenAirSensor : \u001b[37m__init__() - \u001b[37mSet up OpenAir Cologne Sensor with ID 807f6cec at location (50.9029, 6.9462)\u001b[0m\n",
      "\u001b[37mDEBUG - \u001b[37mSOAIOpenAirSensor : \u001b[37mfLoadCalibration() - \u001b[37mSet up calibration model for OpenAir Cologne sensior with ID 807f6cec at location (50.9029, 6.9462)\u001b[0m\n",
      "\u001b[33mWARNING - \u001b[33mSOAIOpenAirSensor : \u001b[33mfLoadCalibration() - \u001b[33mNo calibration model found in path /home/nils/workspace/school_of_ai/projects/air-quality-backend/SOAI/../savedModels/calibrations/v20191221/807f6cec.h5. Set sensor as inactive.\u001b[0m\n",
      "\u001b[37mDEBUG - \u001b[37mSOAIOpenAirSensor : \u001b[37m__init__() - \u001b[37mSet up OpenAir Cologne Sensor with ID 807f1364 at location (50.9718, 7.0048)\u001b[0m\n",
      "\u001b[37mDEBUG - \u001b[37mSOAIOpenAirSensor : \u001b[37mfLoadCalibration() - \u001b[37mSet up calibration model for OpenAir Cologne sensior with ID 807f1364 at location (50.9718, 7.0048)\u001b[0m\n",
      "\u001b[33mWARNING - \u001b[33mSOAIOpenAirSensor : \u001b[33mfLoadCalibration() - \u001b[33mNo calibration model found in path /home/nils/workspace/school_of_ai/projects/air-quality-backend/SOAI/../savedModels/calibrations/v20191221/807f1364.h5. Set sensor as inactive.\u001b[0m\n",
      "\u001b[37mDEBUG - \u001b[37mSOAIOpenAirSensor : \u001b[37m__init__() - \u001b[37mSet up OpenAir Cologne Sensor with ID 807f6940 at location (50.9326, 6.9603)\u001b[0m\n",
      "\u001b[37mDEBUG - \u001b[37mSOAIOpenAirSensor : \u001b[37mfLoadCalibration() - \u001b[37mSet up calibration model for OpenAir Cologne sensior with ID 807f6940 at location (50.9326, 6.9603)\u001b[0m\n",
      "\u001b[37mDEBUG - \u001b[37mSOAIOpenAirCalibrationModel : \u001b[37mfLoad() - \u001b[37mLoad model from path /home/nils/workspace/school_of_ai/projects/air-quality-backend/SOAI/../savedModels/calibrations/v20191221/807f6940.h5\u001b[0m\n"
     ]
    },
    {
     "name": "stderr",
     "output_type": "stream",
     "text": [
      "/home/nils/workspace/school_of_ai/projects/air-quality-backend/env/air/lib/python3.7/site-packages/sklearn/utils/deprecation.py:144: FutureWarning: The sklearn.preprocessing.data module is  deprecated in version 0.22 and will be removed in version 0.24. The corresponding classes / functions should instead be imported from sklearn.preprocessing. Anything that cannot be imported from sklearn.preprocessing is now part of the private API.\n",
      "  warnings.warn(message, FutureWarning)\n",
      "/home/nils/workspace/school_of_ai/projects/air-quality-backend/env/air/lib/python3.7/site-packages/sklearn/base.py:318: UserWarning: Trying to unpickle estimator MinMaxScaler from version 0.21.3 when using version 0.22.1. This might lead to breaking code or invalid results. Use at your own risk.\n",
      "  UserWarning)\n"
     ]
    },
    {
     "name": "stdout",
     "output_type": "stream",
     "text": [
      "\u001b[37mDEBUG - \u001b[37mSOAIOpenAirSensor : \u001b[37m__init__() - \u001b[37mSet up OpenAir Cologne Sensor with ID 807f6b16 at location (50.8939, 6.9639)\u001b[0m\n",
      "\u001b[37mDEBUG - \u001b[37mSOAIOpenAirSensor : \u001b[37mfLoadCalibration() - \u001b[37mSet up calibration model for OpenAir Cologne sensior with ID 807f6b16 at location (50.8939, 6.9639)\u001b[0m\n",
      "\u001b[37mDEBUG - \u001b[37mSOAIOpenAirCalibrationModel : \u001b[37mfLoad() - \u001b[37mLoad model from path /home/nils/workspace/school_of_ai/projects/air-quality-backend/SOAI/../savedModels/calibrations/v20191221/807f6b16.h5\u001b[0m\n",
      "\u001b[37mDEBUG - \u001b[37mSOAIOpenAirSensor : \u001b[37m__init__() - \u001b[37mSet up OpenAir Cologne Sensor with ID 807f4474 at location (50.9601, 6.9216)\u001b[0m\n",
      "\u001b[37mDEBUG - \u001b[37mSOAIOpenAirSensor : \u001b[37mfLoadCalibration() - \u001b[37mSet up calibration model for OpenAir Cologne sensior with ID 807f4474 at location (50.9601, 6.9216)\u001b[0m\n",
      "\u001b[37mDEBUG - \u001b[37mSOAIOpenAirCalibrationModel : \u001b[37mfLoad() - \u001b[37mLoad model from path /home/nils/workspace/school_of_ai/projects/air-quality-backend/SOAI/../savedModels/calibrations/v20191221/807f4474.h5\u001b[0m\n",
      "\u001b[37mDEBUG - \u001b[37mSOAIOpenAirSensor : \u001b[37m__init__() - \u001b[37mSet up OpenAir Cologne Sensor with ID 807f6774 at location (50.9517, 6.9596)\u001b[0m\n",
      "\u001b[37mDEBUG - \u001b[37mSOAIOpenAirSensor : \u001b[37mfLoadCalibration() - \u001b[37mSet up calibration model for OpenAir Cologne sensior with ID 807f6774 at location (50.9517, 6.9596)\u001b[0m\n",
      "\u001b[37mDEBUG - \u001b[37mSOAIOpenAirCalibrationModel : \u001b[37mfLoad() - \u001b[37mLoad model from path /home/nils/workspace/school_of_ai/projects/air-quality-backend/SOAI/../savedModels/calibrations/v20191221/807f6774.h5\u001b[0m\n",
      "\u001b[37mDEBUG - \u001b[37mSOAIOpenAirSensor : \u001b[37m__init__() - \u001b[37mSet up OpenAir Cologne Sensor with ID 807f3b50 at location (50.863, 7.0344)\u001b[0m\n",
      "\u001b[37mDEBUG - \u001b[37mSOAIOpenAirSensor : \u001b[37mfLoadCalibration() - \u001b[37mSet up calibration model for OpenAir Cologne sensior with ID 807f3b50 at location (50.863, 7.0344)\u001b[0m\n",
      "\u001b[37mDEBUG - \u001b[37mSOAIOpenAirCalibrationModel : \u001b[37mfLoad() - \u001b[37mLoad model from path /home/nils/workspace/school_of_ai/projects/air-quality-backend/SOAI/../savedModels/calibrations/v20191221/807f3b50.h5\u001b[0m\n",
      "\u001b[37mDEBUG - \u001b[37mSOAIOpenAirSensor : \u001b[37m__init__() - \u001b[37mSet up OpenAir Cologne Sensor with ID 807f8be6 at location (50.9665, 6.955)\u001b[0m\n",
      "\u001b[37mDEBUG - \u001b[37mSOAIOpenAirSensor : \u001b[37mfLoadCalibration() - \u001b[37mSet up calibration model for OpenAir Cologne sensior with ID 807f8be6 at location (50.9665, 6.955)\u001b[0m\n",
      "\u001b[37mDEBUG - \u001b[37mSOAIOpenAirCalibrationModel : \u001b[37mfLoad() - \u001b[37mLoad model from path /home/nils/workspace/school_of_ai/projects/air-quality-backend/SOAI/../savedModels/calibrations/v20191221/807f8be6.h5\u001b[0m\n",
      "\u001b[37mDEBUG - \u001b[37mSOAIOpenAirSensor : \u001b[37m__init__() - \u001b[37mSet up OpenAir Cologne Sensor with ID 807f2e6c at location (50.9827, 7.0382)\u001b[0m\n",
      "\u001b[37mDEBUG - \u001b[37mSOAIOpenAirSensor : \u001b[37mfLoadCalibration() - \u001b[37mSet up calibration model for OpenAir Cologne sensior with ID 807f2e6c at location (50.9827, 7.0382)\u001b[0m\n",
      "\u001b[37mDEBUG - \u001b[37mSOAIOpenAirCalibrationModel : \u001b[37mfLoad() - \u001b[37mLoad model from path /home/nils/workspace/school_of_ai/projects/air-quality-backend/SOAI/../savedModels/calibrations/v20191221/807f2e6c.h5\u001b[0m\n",
      "\u001b[37mDEBUG - \u001b[37mSOAIOpenAirSensor : \u001b[37m__init__() - \u001b[37mSet up OpenAir Cologne Sensor with ID 807f75e8 at location (50.9496, 6.9642)\u001b[0m\n",
      "\u001b[37mDEBUG - \u001b[37mSOAIOpenAirSensor : \u001b[37mfLoadCalibration() - \u001b[37mSet up calibration model for OpenAir Cologne sensior with ID 807f75e8 at location (50.9496, 6.9642)\u001b[0m\n",
      "\u001b[37mDEBUG - \u001b[37mSOAIOpenAirCalibrationModel : \u001b[37mfLoad() - \u001b[37mLoad model from path /home/nils/workspace/school_of_ai/projects/air-quality-backend/SOAI/../savedModels/calibrations/v20191221/807f75e8.h5\u001b[0m\n",
      "\u001b[37mDEBUG - \u001b[37mSOAIOpenAirSensor : \u001b[37m__init__() - \u001b[37mSet up OpenAir Cologne Sensor with ID 807f8844 at location (50.9628, 7.0022)\u001b[0m\n",
      "\u001b[37mDEBUG - \u001b[37mSOAIOpenAirSensor : \u001b[37mfLoadCalibration() - \u001b[37mSet up calibration model for OpenAir Cologne sensior with ID 807f8844 at location (50.9628, 7.0022)\u001b[0m\n",
      "\u001b[37mDEBUG - \u001b[37mSOAIOpenAirCalibrationModel : \u001b[37mfLoad() - \u001b[37mLoad model from path /home/nils/workspace/school_of_ai/projects/air-quality-backend/SOAI/../savedModels/calibrations/v20191221/807f8844.h5\u001b[0m\n",
      "\u001b[37mDEBUG - \u001b[37mSOAIOpenAirSensor : \u001b[37m__init__() - \u001b[37mSet up OpenAir Cologne Sensor with ID 807f77b4 at location (50.94, 6.8883)\u001b[0m\n",
      "\u001b[37mDEBUG - \u001b[37mSOAIOpenAirSensor : \u001b[37mfLoadCalibration() - \u001b[37mSet up calibration model for OpenAir Cologne sensior with ID 807f77b4 at location (50.94, 6.8883)\u001b[0m\n",
      "\u001b[37mDEBUG - \u001b[37mSOAIOpenAirCalibrationModel : \u001b[37mfLoad() - \u001b[37mLoad model from path /home/nils/workspace/school_of_ai/projects/air-quality-backend/SOAI/../savedModels/calibrations/v20191221/807f77b4.h5\u001b[0m\n",
      "\u001b[37mDEBUG - \u001b[37mSOAIOpenAirSensor : \u001b[37m__init__() - \u001b[37mSet up OpenAir Cologne Sensor with ID 807f52e8 at location (50.9332, 6.9486)\u001b[0m\n",
      "\u001b[37mDEBUG - \u001b[37mSOAIOpenAirSensor : \u001b[37mfLoadCalibration() - \u001b[37mSet up calibration model for OpenAir Cologne sensior with ID 807f52e8 at location (50.9332, 6.9486)\u001b[0m\n",
      "\u001b[37mDEBUG - \u001b[37mSOAIOpenAirCalibrationModel : \u001b[37mfLoad() - \u001b[37mLoad model from path /home/nils/workspace/school_of_ai/projects/air-quality-backend/SOAI/../savedModels/calibrations/v20191221/807f52e8.h5\u001b[0m\n",
      "\u001b[37mDEBUG - \u001b[37mSOAIOpenAirSensor : \u001b[37m__init__() - \u001b[37mSet up OpenAir Cologne Sensor with ID 807f584c at location (50.902, 6.9678)\u001b[0m\n",
      "\u001b[37mDEBUG - \u001b[37mSOAIOpenAirSensor : \u001b[37mfLoadCalibration() - \u001b[37mSet up calibration model for OpenAir Cologne sensior with ID 807f584c at location (50.902, 6.9678)\u001b[0m\n",
      "\u001b[37mDEBUG - \u001b[37mSOAIOpenAirCalibrationModel : \u001b[37mfLoad() - \u001b[37mLoad model from path /home/nils/workspace/school_of_ai/projects/air-quality-backend/SOAI/../savedModels/calibrations/v20191221/807f584c.h5\u001b[0m\n",
      "\u001b[37mDEBUG - \u001b[37mSOAIOpenAirSensor : \u001b[37m__init__() - \u001b[37mSet up OpenAir Cologne Sensor with ID 807f3d30 at location (51.9693, 7.5958)\u001b[0m\n",
      "\u001b[37mDEBUG - \u001b[37mSOAIOpenAirSensor : \u001b[37mfLoadCalibration() - \u001b[37mSet up calibration model for OpenAir Cologne sensior with ID 807f3d30 at location (51.9693, 7.5958)\u001b[0m\n",
      "\u001b[33mWARNING - \u001b[33mSOAIOpenAirSensor : \u001b[33mfLoadCalibration() - \u001b[33mNo calibration model found in path /home/nils/workspace/school_of_ai/projects/air-quality-backend/SOAI/../savedModels/calibrations/v20191221/807f3d30.h5. Set sensor as inactive.\u001b[0m\n",
      "\u001b[37mDEBUG - \u001b[37mSOAIOpenAirSensor : \u001b[37m__init__() - \u001b[37mSet up OpenAir Cologne Sensor with ID 807f8498 at location (50.9585, 7.0116)\u001b[0m\n",
      "\u001b[37mDEBUG - \u001b[37mSOAIOpenAirSensor : \u001b[37mfLoadCalibration() - \u001b[37mSet up calibration model for OpenAir Cologne sensior with ID 807f8498 at location (50.9585, 7.0116)\u001b[0m\n",
      "\u001b[37mDEBUG - \u001b[37mSOAIOpenAirCalibrationModel : \u001b[37mfLoad() - \u001b[37mLoad model from path /home/nils/workspace/school_of_ai/projects/air-quality-backend/SOAI/../savedModels/calibrations/v20191221/807f8498.h5\u001b[0m\n",
      "\u001b[37mDEBUG - \u001b[37mSOAIOpenAirSensor : \u001b[37m__init__() - \u001b[37mSet up OpenAir Cologne Sensor with ID 807f798a at location (50.9612, 7.0001)\u001b[0m\n",
      "\u001b[37mDEBUG - \u001b[37mSOAIOpenAirSensor : \u001b[37mfLoadCalibration() - \u001b[37mSet up calibration model for OpenAir Cologne sensior with ID 807f798a at location (50.9612, 7.0001)\u001b[0m\n",
      "\u001b[37mDEBUG - \u001b[37mSOAIOpenAirCalibrationModel : \u001b[37mfLoad() - \u001b[37mLoad model from path /home/nils/workspace/school_of_ai/projects/air-quality-backend/SOAI/../savedModels/calibrations/v20191221/807f798a.h5\u001b[0m\n",
      "\u001b[37mDEBUG - \u001b[37mSOAIOpenAirSensor : \u001b[37m__init__() - \u001b[37mSet up OpenAir Cologne Sensor with ID 807f65b2 at location (50.9365, 6.9182)\u001b[0m\n",
      "\u001b[37mDEBUG - \u001b[37mSOAIOpenAirSensor : \u001b[37mfLoadCalibration() - \u001b[37mSet up calibration model for OpenAir Cologne sensior with ID 807f65b2 at location (50.9365, 6.9182)\u001b[0m\n",
      "\u001b[37mDEBUG - \u001b[37mSOAIOpenAirCalibrationModel : \u001b[37mfLoad() - \u001b[37mLoad model from path /home/nils/workspace/school_of_ai/projects/air-quality-backend/SOAI/../savedModels/calibrations/v20191221/807f65b2.h5\u001b[0m\n",
      "\u001b[37mDEBUG - \u001b[37mSOAIOpenAirSensor : \u001b[37m__init__() - \u001b[37mSet up OpenAir Cologne Sensor with ID 807f5112 at location (48.1544, 11.528)\u001b[0m\n",
      "\u001b[37mDEBUG - \u001b[37mSOAIOpenAirSensor : \u001b[37mfLoadCalibration() - \u001b[37mSet up calibration model for OpenAir Cologne sensior with ID 807f5112 at location (48.1544, 11.528)\u001b[0m\n"
     ]
    },
    {
     "name": "stdout",
     "output_type": "stream",
     "text": [
      "\u001b[33mWARNING - \u001b[33mSOAIOpenAirSensor : \u001b[33mfLoadCalibration() - \u001b[33mNo calibration model found in path /home/nils/workspace/school_of_ai/projects/air-quality-backend/SOAI/../savedModels/calibrations/v20191221/807f5112.h5. Set sensor as inactive.\u001b[0m\n",
      "\u001b[37mDEBUG - \u001b[37mSOAIOpenAirSensor : \u001b[37m__init__() - \u001b[37mSet up OpenAir Cologne Sensor with ID 807f0fb8 at location (50.9665, 6.955)\u001b[0m\n",
      "\u001b[37mDEBUG - \u001b[37mSOAIOpenAirSensor : \u001b[37mfLoadCalibration() - \u001b[37mSet up calibration model for OpenAir Cologne sensior with ID 807f0fb8 at location (50.9665, 6.955)\u001b[0m\n",
      "\u001b[33mWARNING - \u001b[33mSOAIOpenAirSensor : \u001b[33mfLoadCalibration() - \u001b[33mNo calibration model found in path /home/nils/workspace/school_of_ai/projects/air-quality-backend/SOAI/../savedModels/calibrations/v20191221/807f0fb8.h5. Set sensor as inactive.\u001b[0m\n",
      "\u001b[37mDEBUG - \u001b[37mSOAIOpenAirSensor : \u001b[37m__init__() - \u001b[37mSet up OpenAir Cologne Sensor with ID 807f7b56 at location (50.9544, 6.9194)\u001b[0m\n",
      "\u001b[37mDEBUG - \u001b[37mSOAIOpenAirSensor : \u001b[37mfLoadCalibration() - \u001b[37mSet up calibration model for OpenAir Cologne sensior with ID 807f7b56 at location (50.9544, 6.9194)\u001b[0m\n",
      "\u001b[37mDEBUG - \u001b[37mSOAIOpenAirCalibrationModel : \u001b[37mfLoad() - \u001b[37mLoad model from path /home/nils/workspace/school_of_ai/projects/air-quality-backend/SOAI/../savedModels/calibrations/v20191221/807f7b56.h5\u001b[0m\n",
      "\u001b[37mDEBUG - \u001b[37mSOAIOpenAirSensor : \u001b[37m__init__() - \u001b[37mSet up OpenAir Cologne Sensor with ID 807f4640 at location (50.9343, 6.9045)\u001b[0m\n",
      "\u001b[37mDEBUG - \u001b[37mSOAIOpenAirSensor : \u001b[37mfLoadCalibration() - \u001b[37mSet up calibration model for OpenAir Cologne sensior with ID 807f4640 at location (50.9343, 6.9045)\u001b[0m\n",
      "\u001b[33mWARNING - \u001b[33mSOAIOpenAirSensor : \u001b[33mfLoadCalibration() - \u001b[33mNo calibration model found in path /home/nils/workspace/school_of_ai/projects/air-quality-backend/SOAI/../savedModels/calibrations/v20191221/807f4640.h5. Set sensor as inactive.\u001b[0m\n",
      "\u001b[37mDEBUG - \u001b[37mSOAIOpenAirSensor : \u001b[37m__init__() - \u001b[37mSet up OpenAir Cologne Sensor with ID 807f153a at location (50.9231, 6.7031)\u001b[0m\n",
      "\u001b[37mDEBUG - \u001b[37mSOAIOpenAirSensor : \u001b[37mfLoadCalibration() - \u001b[37mSet up calibration model for OpenAir Cologne sensior with ID 807f153a at location (50.9231, 6.7031)\u001b[0m\n",
      "\u001b[37mDEBUG - \u001b[37mSOAIOpenAirCalibrationModel : \u001b[37mfLoad() - \u001b[37mLoad model from path /home/nils/workspace/school_of_ai/projects/air-quality-backend/SOAI/../savedModels/calibrations/v20191221/807f153a.h5\u001b[0m\n",
      "\u001b[37mDEBUG - \u001b[37mSOAIOpenAirSensor : \u001b[37m__init__() - \u001b[37mSet up OpenAir Cologne Sensor with ID 807f8664 at location (50.906, 6.9248)\u001b[0m\n",
      "\u001b[37mDEBUG - \u001b[37mSOAIOpenAirSensor : \u001b[37mfLoadCalibration() - \u001b[37mSet up calibration model for OpenAir Cologne sensior with ID 807f8664 at location (50.906, 6.9248)\u001b[0m\n",
      "\u001b[37mDEBUG - \u001b[37mSOAIOpenAirCalibrationModel : \u001b[37mfLoad() - \u001b[37mLoad model from path /home/nils/workspace/school_of_ai/projects/air-quality-backend/SOAI/../savedModels/calibrations/v20191221/807f8664.h5\u001b[0m\n",
      "\u001b[37mDEBUG - \u001b[37mSOAIOpenAirSensor : \u001b[37m__init__() - \u001b[37mSet up OpenAir Cologne Sensor with ID 807f3ef2 at location (50.9724, 6.9452)\u001b[0m\n",
      "\u001b[37mDEBUG - \u001b[37mSOAIOpenAirSensor : \u001b[37mfLoadCalibration() - \u001b[37mSet up calibration model for OpenAir Cologne sensior with ID 807f3ef2 at location (50.9724, 6.9452)\u001b[0m\n",
      "\u001b[37mDEBUG - \u001b[37mSOAIOpenAirCalibrationModel : \u001b[37mfLoad() - \u001b[37mLoad model from path /home/nils/workspace/school_of_ai/projects/air-quality-backend/SOAI/../savedModels/calibrations/v20191221/807f3ef2.h5\u001b[0m\n",
      "\u001b[37mDEBUG - \u001b[37mSOAIOpenAirSensor : \u001b[37m__init__() - \u001b[37mSet up OpenAir Cologne Sensor with ID 807f395c at location (50.9104, 6.9368)\u001b[0m\n",
      "\u001b[37mDEBUG - \u001b[37mSOAIOpenAirSensor : \u001b[37mfLoadCalibration() - \u001b[37mSet up calibration model for OpenAir Cologne sensior with ID 807f395c at location (50.9104, 6.9368)\u001b[0m\n",
      "\u001b[37mDEBUG - \u001b[37mSOAIOpenAirCalibrationModel : \u001b[37mfLoad() - \u001b[37mLoad model from path /home/nils/workspace/school_of_ai/projects/air-quality-backend/SOAI/../savedModels/calibrations/v20191221/807f395c.h5\u001b[0m\n",
      "\u001b[37mDEBUG - \u001b[37mSOAIOpenAirSensor : \u001b[37m__init__() - \u001b[37mSet up OpenAir Cologne Sensor with ID 807f49e2 at location (50.9328, 6.9611)\u001b[0m\n",
      "\u001b[37mDEBUG - \u001b[37mSOAIOpenAirSensor : \u001b[37mfLoadCalibration() - \u001b[37mSet up calibration model for OpenAir Cologne sensior with ID 807f49e2 at location (50.9328, 6.9611)\u001b[0m\n",
      "\u001b[37mDEBUG - \u001b[37mSOAIOpenAirCalibrationModel : \u001b[37mfLoad() - \u001b[37mLoad model from path /home/nils/workspace/school_of_ai/projects/air-quality-backend/SOAI/../savedModels/calibrations/v20191221/807f49e2.h5\u001b[0m\n",
      "\u001b[37mDEBUG - \u001b[37mSOAIOpenAirSensor : \u001b[37m__init__() - \u001b[37mSet up OpenAir Cologne Sensor with ID 807f5a18 at location (50.9545, 6.9126)\u001b[0m\n",
      "\u001b[37mDEBUG - \u001b[37mSOAIOpenAirSensor : \u001b[37mfLoadCalibration() - \u001b[37mSet up calibration model for OpenAir Cologne sensior with ID 807f5a18 at location (50.9545, 6.9126)\u001b[0m\n",
      "\u001b[37mDEBUG - \u001b[37mSOAIOpenAirCalibrationModel : \u001b[37mfLoad() - \u001b[37mLoad model from path /home/nils/workspace/school_of_ai/projects/air-quality-backend/SOAI/../savedModels/calibrations/v20191221/807f5a18.h5\u001b[0m\n",
      "\u001b[37mDEBUG - \u001b[37mSOAIOpenAirSensor : \u001b[37m__init__() - \u001b[37mSet up OpenAir Cologne Sensor with ID 807f40c8 at location (51.0518, 6.9553)\u001b[0m\n",
      "\u001b[37mDEBUG - \u001b[37mSOAIOpenAirSensor : \u001b[37mfLoadCalibration() - \u001b[37mSet up calibration model for OpenAir Cologne sensior with ID 807f40c8 at location (51.0518, 6.9553)\u001b[0m\n",
      "\u001b[33mWARNING - \u001b[33mSOAIOpenAirSensor : \u001b[33mfLoadCalibration() - \u001b[33mNo calibration model found in path /home/nils/workspace/school_of_ai/projects/air-quality-backend/SOAI/../savedModels/calibrations/v20191221/807f40c8.h5. Set sensor as inactive.\u001b[0m\n",
      "\u001b[37mDEBUG - \u001b[37mSOAIOpenAirSensor : \u001b[37m__init__() - \u001b[37mSet up OpenAir Cologne Sensor with ID 807f8a1a at location (51.0513, 6.9515)\u001b[0m\n",
      "\u001b[37mDEBUG - \u001b[37mSOAIOpenAirSensor : \u001b[37mfLoadCalibration() - \u001b[37mSet up calibration model for OpenAir Cologne sensior with ID 807f8a1a at location (51.0513, 6.9515)\u001b[0m\n",
      "\u001b[37mDEBUG - \u001b[37mSOAIOpenAirCalibrationModel : \u001b[37mfLoad() - \u001b[37mLoad model from path /home/nils/workspace/school_of_ai/projects/air-quality-backend/SOAI/../savedModels/calibrations/v20191221/807f8a1a.h5\u001b[0m\n",
      "\u001b[37mDEBUG - \u001b[37mSOAIOpenAirSensor : \u001b[37m__init__() - \u001b[37mSet up OpenAir Cologne Sensor with ID 807f80f6 at location (50.9502, 6.9196)\u001b[0m\n",
      "\u001b[37mDEBUG - \u001b[37mSOAIOpenAirSensor : \u001b[37mfLoadCalibration() - \u001b[37mSet up calibration model for OpenAir Cologne sensior with ID 807f80f6 at location (50.9502, 6.9196)\u001b[0m\n",
      "\u001b[37mDEBUG - \u001b[37mSOAIOpenAirCalibrationModel : \u001b[37mfLoad() - \u001b[37mLoad model from path /home/nils/workspace/school_of_ai/projects/air-quality-backend/SOAI/../savedModels/calibrations/v20191221/807f80f6.h5\u001b[0m\n",
      "\u001b[37mDEBUG - \u001b[37mSOAIOpenAirSensor : \u001b[37m__init__() - \u001b[37mSet up OpenAir Cologne Sensor with ID 807f118e at location (50.9301, 6.9355)\u001b[0m\n",
      "\u001b[37mDEBUG - \u001b[37mSOAIOpenAirSensor : \u001b[37mfLoadCalibration() - \u001b[37mSet up calibration model for OpenAir Cologne sensior with ID 807f118e at location (50.9301, 6.9355)\u001b[0m\n",
      "\u001b[37mDEBUG - \u001b[37mSOAIOpenAirCalibrationModel : \u001b[37mfLoad() - \u001b[37mLoad model from path /home/nils/workspace/school_of_ai/projects/air-quality-backend/SOAI/../savedModels/calibrations/v20191221/807f118e.h5\u001b[0m\n",
      "\u001b[37mDEBUG - \u001b[37mSOAIOpenAirSensor : \u001b[37m__init__() - \u001b[37mSet up OpenAir Cologne Sensor with ID 807f5680 at location (50.8802, 6.8774)\u001b[0m\n",
      "\u001b[37mDEBUG - \u001b[37mSOAIOpenAirSensor : \u001b[37mfLoadCalibration() - \u001b[37mSet up calibration model for OpenAir Cologne sensior with ID 807f5680 at location (50.8802, 6.8774)\u001b[0m\n",
      "\u001b[33mWARNING - \u001b[33mSOAIOpenAirSensor : \u001b[33mfLoadCalibration() - \u001b[33mNo calibration model found in path /home/nils/workspace/school_of_ai/projects/air-quality-backend/SOAI/../savedModels/calibrations/v20191221/807f5680.h5. Set sensor as inactive.\u001b[0m\n",
      "\u001b[37mDEBUG - \u001b[37mSOAIOpenAirSensor : \u001b[37m__init__() - \u001b[37mSet up OpenAir Cologne Sensor with ID 807f1c6a at location (50.9314, 6.9182)\u001b[0m\n",
      "\u001b[37mDEBUG - \u001b[37mSOAIOpenAirSensor : \u001b[37mfLoadCalibration() - \u001b[37mSet up calibration model for OpenAir Cologne sensior with ID 807f1c6a at location (50.9314, 6.9182)\u001b[0m\n",
      "\u001b[33mWARNING - \u001b[33mSOAIOpenAirSensor : \u001b[33mfLoadCalibration() - \u001b[33mNo calibration model found in path /home/nils/workspace/school_of_ai/projects/air-quality-backend/SOAI/../savedModels/calibrations/v20191221/807f1c6a.h5. Set sensor as inactive.\u001b[0m\n"
     ]
    },
    {
     "name": "stdout",
     "output_type": "stream",
     "text": [
      "\u001b[37mDEBUG - \u001b[37mSOAILanuvSensor : \u001b[37m__init__() - \u001b[37mSet up Lanuv sensor with ID CHOR at location (51.019338, 6.884571)\u001b[0m\n",
      "\u001b[37mDEBUG - \u001b[37mSOAILanuvSensor : \u001b[37m__init__() - \u001b[37mSet up Lanuv sensor with ID VKTU at location (50.947268, 6.957649)\u001b[0m\n",
      "\u001b[37mDEBUG - \u001b[37mSOAILanuvSensor : \u001b[37m__init__() - \u001b[37mSet up Lanuv sensor with ID RODE at location (50.889871, 6.985074)\u001b[0m\n",
      "\u001b[37mDEBUG - \u001b[37mSOAILanuvSensor : \u001b[37m__init__() - \u001b[37mSet up Lanuv sensor with ID VKCL at location (50.962838, 7.004605)\u001b[0m\n",
      "\u001b[32mINFO - \u001b[32mSOAISensorNetwork : \u001b[32mfCheckNetwork() - \u001b[32mStatus of OpenAirCologne sensors:\n",
      "\t26 of 37 are active.\n",
      "\t0 of these have an error.\u001b[0m\n",
      "\u001b[32mINFO - \u001b[32mSOAISensorNetwork : \u001b[32mfCheckNetwork() - \u001b[32mStatus of Lanuv sensors:\n",
      "\t4 of 4 are active.\n",
      "\t0 of these have an error.\u001b[0m\n",
      "\u001b[37mDEBUG - \u001b[37mSOAILanuvSensor : \u001b[37mfLoadTrafficModel() - \u001b[37mSet up calibration model for OpenAir Cologne sensior with ID VKCL at location (50.962838, 7.004605)\u001b[0m\n",
      "\u001b[37mDEBUG - \u001b[37mSOAITrafficModel : \u001b[37mfLoad() - \u001b[37mLoad model from path /home/nils/workspace/school_of_ai/projects/air-quality-backend/SOAI/../savedModels/traffic/v20200426/VKCL.h5\u001b[0m\n"
     ]
    }
   ],
   "source": [
    "# The config file exhibits all information about active sensors, the calibration model etc.\n",
    "network = SOAISensorNetwork(os.environ.get(\"SOAI\") + \"/configs/sensorNetwork.conf\")\n",
    "\n",
    "# Check the sensor network for consistency\n",
    "network.fCheckNetwork()\n",
    "\n",
    "# Setup traffic models\n",
    "network.fSetUpTrafficModels(os.environ.get(\"SOAI\") + \"/configs/sensorTraffic.conf\")"
   ]
  },
  {
   "cell_type": "markdown",
   "metadata": {},
   "source": [
    "### Convert measurments to NO2"
   ]
  },
  {
   "cell_type": "code",
   "execution_count": 4,
   "metadata": {},
   "outputs": [
    {
     "name": "stdout",
     "output_type": "stream",
     "text": [
      "hum            61.72\n",
      "pm10               0\n",
      "pm25               0\n",
      "r1               198\n",
      "r2              1479\n",
      "rssi             -59\n",
      "temp            16.1\n",
      "sensorID    807f3b50\n",
      "Name: 2018-08-14 08:00:00+00:00, dtype: object\n",
      "hum            [61.72]\n",
      "pm10             [0.0]\n",
      "pm25             [0.0]\n",
      "r1             [198.0]\n",
      "r2            [1479.0]\n",
      "rssi           [-59.0]\n",
      "temp            [16.1]\n",
      "sensorID    [807f3b50]\n",
      "Name: 2018-08-14 08:00:00+00:00, dtype: object\n",
      "[[  61.72]\n",
      " [  16.1 ]\n",
      " [1479.  ]]\n",
      "[[  61.72]\n",
      " [  16.1 ]\n",
      " [1479.  ]]\n"
     ]
    },
    {
     "ename": "ValueError",
     "evalue": "non-broadcastable output operand with shape (3,1) doesn't match the broadcast shape (3,3)",
     "output_type": "error",
     "traceback": [
      "\u001b[0;31m---------------------------------------------------------------------------\u001b[0m",
      "\u001b[0;31mValueError\u001b[0m                                Traceback (most recent call last)",
      "\u001b[0;32m<ipython-input-4-4b6b015777f6>\u001b[0m in \u001b[0;36m<module>\u001b[0;34m\u001b[0m\n\u001b[0;32m----> 1\u001b[0;31m \u001b[0mdata\u001b[0m \u001b[0;34m=\u001b[0m \u001b[0mnetwork\u001b[0m\u001b[0;34m.\u001b[0m\u001b[0mfDataToNO2\u001b[0m\u001b[0;34m(\u001b[0m\u001b[0mdfOpenAir\u001b[0m\u001b[0;34m,\u001b[0m \u001b[0;34m\"OpenAirCologne\"\u001b[0m\u001b[0;34m)\u001b[0m\u001b[0;34m\u001b[0m\u001b[0;34m\u001b[0m\u001b[0m\n\u001b[0m",
      "\u001b[0;32m~/workspace/school_of_ai/projects/air-quality-backend/SOAI/sensors/SOAISensorNetwork.py\u001b[0m in \u001b[0;36mfDataToNO2\u001b[0;34m(self, data, sensorType)\u001b[0m\n\u001b[1;32m    224\u001b[0m                     \u001b[0mcountTEMP\u001b[0m \u001b[0;34m=\u001b[0m \u001b[0;36m0\u001b[0m\u001b[0;34m\u001b[0m\u001b[0;34m\u001b[0m\u001b[0m\n\u001b[1;32m    225\u001b[0m                     \u001b[0;32mfor\u001b[0m \u001b[0mk\u001b[0m\u001b[0;34m,\u001b[0m \u001b[0mrow\u001b[0m \u001b[0;32min\u001b[0m \u001b[0mdataTEMP\u001b[0m\u001b[0;34m.\u001b[0m\u001b[0miterrows\u001b[0m\u001b[0;34m(\u001b[0m\u001b[0;34m)\u001b[0m\u001b[0;34m:\u001b[0m\u001b[0;34m\u001b[0m\u001b[0;34m\u001b[0m\u001b[0m\n\u001b[0;32m--> 226\u001b[0;31m                         \u001b[0mno2TEMP\u001b[0m\u001b[0;34m[\u001b[0m\u001b[0mcountTEMP\u001b[0m\u001b[0;34m]\u001b[0m \u001b[0;34m=\u001b[0m \u001b[0msensor\u001b[0m\u001b[0;34m.\u001b[0m\u001b[0mfDataToNO2\u001b[0m\u001b[0;34m(\u001b[0m\u001b[0mrow\u001b[0m\u001b[0;34m)\u001b[0m\u001b[0;34m\u001b[0m\u001b[0;34m\u001b[0m\u001b[0m\n\u001b[0m\u001b[1;32m    227\u001b[0m                         \u001b[0mcountTEMP\u001b[0m \u001b[0;34m+=\u001b[0m \u001b[0;36m1\u001b[0m\u001b[0;34m\u001b[0m\u001b[0;34m\u001b[0m\u001b[0m\n\u001b[1;32m    228\u001b[0m \u001b[0;34m\u001b[0m\u001b[0m\n",
      "\u001b[0;32m~/workspace/school_of_ai/projects/air-quality-backend/SOAI/sensors/SOAIOpenAirSensor.py\u001b[0m in \u001b[0;36mfDataToNO2\u001b[0;34m(self, dataDict)\u001b[0m\n\u001b[1;32m     74\u001b[0m         \u001b[0mdata\u001b[0m \u001b[0;34m=\u001b[0m \u001b[0mnp\u001b[0m\u001b[0;34m.\u001b[0m\u001b[0marray\u001b[0m\u001b[0;34m(\u001b[0m\u001b[0;34m[\u001b[0m\u001b[0mdataDict\u001b[0m\u001b[0;34m[\u001b[0m\u001b[0;34m\"hum\"\u001b[0m\u001b[0;34m]\u001b[0m\u001b[0;34m,\u001b[0m \u001b[0mdataDict\u001b[0m\u001b[0;34m[\u001b[0m\u001b[0;34m\"temp\"\u001b[0m\u001b[0;34m]\u001b[0m\u001b[0;34m,\u001b[0m \u001b[0mdataDict\u001b[0m\u001b[0;34m[\u001b[0m\u001b[0;34m\"r2\"\u001b[0m\u001b[0;34m]\u001b[0m\u001b[0;34m]\u001b[0m\u001b[0;34m)\u001b[0m\u001b[0;34m\u001b[0m\u001b[0;34m\u001b[0m\u001b[0m\n\u001b[1;32m     75\u001b[0m         \u001b[0mprint\u001b[0m\u001b[0;34m(\u001b[0m\u001b[0mdata\u001b[0m\u001b[0;34m)\u001b[0m\u001b[0;34m\u001b[0m\u001b[0;34m\u001b[0m\u001b[0m\n\u001b[0;32m---> 76\u001b[0;31m         \u001b[0mno2\u001b[0m \u001b[0;34m=\u001b[0m \u001b[0mself\u001b[0m\u001b[0;34m.\u001b[0m\u001b[0mcalibModel\u001b[0m\u001b[0;34m.\u001b[0m\u001b[0mfPredict\u001b[0m\u001b[0;34m(\u001b[0m\u001b[0mdata\u001b[0m\u001b[0;34m)\u001b[0m\u001b[0;34m\u001b[0m\u001b[0;34m\u001b[0m\u001b[0m\n\u001b[0m\u001b[1;32m     77\u001b[0m \u001b[0;34m\u001b[0m\u001b[0m\n\u001b[1;32m     78\u001b[0m         \u001b[0;32mreturn\u001b[0m \u001b[0mno2\u001b[0m\u001b[0;34m\u001b[0m\u001b[0;34m\u001b[0m\u001b[0m\n",
      "\u001b[0;32m~/workspace/school_of_ai/projects/air-quality-backend/SOAI/models/SOAIOpenAirCalibrationModel.py\u001b[0m in \u001b[0;36mfPredict\u001b[0;34m(self, data, normalize)\u001b[0m\n\u001b[1;32m     35\u001b[0m         \u001b[0mvalue\u001b[0m \u001b[0;34m=\u001b[0m \u001b[0;32mNone\u001b[0m\u001b[0;34m\u001b[0m\u001b[0;34m\u001b[0m\u001b[0m\n\u001b[1;32m     36\u001b[0m         \u001b[0;32mif\u001b[0m \u001b[0mnormalize\u001b[0m\u001b[0;34m:\u001b[0m\u001b[0;34m\u001b[0m\u001b[0;34m\u001b[0m\u001b[0m\n\u001b[0;32m---> 37\u001b[0;31m             \u001b[0mdataNormalized\u001b[0m \u001b[0;34m=\u001b[0m \u001b[0mself\u001b[0m\u001b[0;34m.\u001b[0m\u001b[0mfNormalize\u001b[0m\u001b[0;34m(\u001b[0m\u001b[0mdata\u001b[0m\u001b[0;34m)\u001b[0m\u001b[0;34m\u001b[0m\u001b[0;34m\u001b[0m\u001b[0m\n\u001b[0m\u001b[1;32m     38\u001b[0m             \u001b[0mvalue\u001b[0m \u001b[0;34m=\u001b[0m \u001b[0mself\u001b[0m\u001b[0;34m.\u001b[0m\u001b[0mmodel\u001b[0m\u001b[0;34m.\u001b[0m\u001b[0mpredict\u001b[0m\u001b[0;34m(\u001b[0m\u001b[0mdataNormalized\u001b[0m\u001b[0;34m)\u001b[0m\u001b[0;34m\u001b[0m\u001b[0;34m\u001b[0m\u001b[0m\n\u001b[1;32m     39\u001b[0m         \u001b[0;32melse\u001b[0m\u001b[0;34m:\u001b[0m\u001b[0;34m\u001b[0m\u001b[0;34m\u001b[0m\u001b[0m\n",
      "\u001b[0;32m~/workspace/school_of_ai/projects/air-quality-backend/SOAI/models/SOAIOpenAirCalibrationModel.py\u001b[0m in \u001b[0;36mfNormalize\u001b[0;34m(self, data)\u001b[0m\n\u001b[1;32m     49\u001b[0m     \u001b[0;31m# @returns Normalized data\u001b[0m\u001b[0;34m\u001b[0m\u001b[0;34m\u001b[0m\u001b[0;34m\u001b[0m\u001b[0m\n\u001b[1;32m     50\u001b[0m     \u001b[0;32mdef\u001b[0m \u001b[0mfNormalize\u001b[0m\u001b[0;34m(\u001b[0m\u001b[0mself\u001b[0m\u001b[0;34m,\u001b[0m \u001b[0mdata\u001b[0m\u001b[0;34m)\u001b[0m\u001b[0;34m:\u001b[0m\u001b[0;34m\u001b[0m\u001b[0;34m\u001b[0m\u001b[0m\n\u001b[0;32m---> 51\u001b[0;31m         \u001b[0mdataNormalized\u001b[0m \u001b[0;34m=\u001b[0m \u001b[0mself\u001b[0m\u001b[0;34m.\u001b[0m\u001b[0mscaler\u001b[0m\u001b[0;34m.\u001b[0m\u001b[0mtransform\u001b[0m\u001b[0;34m(\u001b[0m\u001b[0mdata\u001b[0m\u001b[0;34m)\u001b[0m\u001b[0;34m\u001b[0m\u001b[0;34m\u001b[0m\u001b[0m\n\u001b[0m\u001b[1;32m     52\u001b[0m         \u001b[0;32mreturn\u001b[0m \u001b[0mdataNormalized\u001b[0m\u001b[0;34m\u001b[0m\u001b[0;34m\u001b[0m\u001b[0m\n\u001b[1;32m     53\u001b[0m \u001b[0;34m\u001b[0m\u001b[0m\n",
      "\u001b[0;32m~/workspace/school_of_ai/projects/air-quality-backend/env/air/lib/python3.7/site-packages/sklearn/preprocessing/_data.py\u001b[0m in \u001b[0;36mtransform\u001b[0;34m(self, X)\u001b[0m\n\u001b[1;32m    412\u001b[0m                         force_all_finite=\"allow-nan\")\n\u001b[1;32m    413\u001b[0m \u001b[0;34m\u001b[0m\u001b[0m\n\u001b[0;32m--> 414\u001b[0;31m         \u001b[0mX\u001b[0m \u001b[0;34m*=\u001b[0m \u001b[0mself\u001b[0m\u001b[0;34m.\u001b[0m\u001b[0mscale_\u001b[0m\u001b[0;34m\u001b[0m\u001b[0;34m\u001b[0m\u001b[0m\n\u001b[0m\u001b[1;32m    415\u001b[0m         \u001b[0mX\u001b[0m \u001b[0;34m+=\u001b[0m \u001b[0mself\u001b[0m\u001b[0;34m.\u001b[0m\u001b[0mmin_\u001b[0m\u001b[0;34m\u001b[0m\u001b[0;34m\u001b[0m\u001b[0m\n\u001b[1;32m    416\u001b[0m         \u001b[0;32mreturn\u001b[0m \u001b[0mX\u001b[0m\u001b[0;34m\u001b[0m\u001b[0;34m\u001b[0m\u001b[0m\n",
      "\u001b[0;31mValueError\u001b[0m: non-broadcastable output operand with shape (3,1) doesn't match the broadcast shape (3,3)"
     ]
    }
   ],
   "source": [
    "data = network.fDataToNO2(dfOpenAir, \"OpenAirCologne\")"
   ]
  },
  {
   "cell_type": "code",
   "execution_count": 10,
   "metadata": {},
   "outputs": [],
   "source": [
    "import numpy as np\n",
    "#dataDict = {\"rgreen\": [0.1, 0.2], \"rorange\": [0.1, 0.2], \"rred\": [0.3, 0.4], \"rbrown\": [0.5, 0.6], \"hum\": [0.1, 0.2], \"temp\": [0.1, 0.2], \"wg\": [0.1, 0.2]}\n",
    "dataDict = {\"no2\": 40, \"rgreen\": 0.1, \"rorange\": 0.1, \"rred\": 0.3, \"rbrown\": 0.5, \"hum\": 0.1, \"temp\": 0.1, \"wg\": 0.1}"
   ]
  },
  {
   "cell_type": "code",
   "execution_count": 9,
   "metadata": {},
   "outputs": [
    {
     "name": "stdout",
     "output_type": "stream",
     "text": [
      "[0.1 0.1 0.3 0.5 0.1 0.1 0.1]\n",
      "[[0.1 0.1 0.3 0.5 0.1 0.1 0.1]]\n"
     ]
    }
   ],
   "source": [
    "#data = np.array([dataDict[\"rgreen\"], dataDict[\"rorange\"], dataDict[\"rred\"], dataDict[\"rbrown\"], dataDict[\"hum\"], dataDict[\"temp\"],   dataDict[\"wg\"]])\n",
    "#print(data)\n",
    "#data = data.reshape(1, -1)\n",
    "#print(data)"
   ]
  },
  {
   "cell_type": "code",
   "execution_count": 12,
   "metadata": {},
   "outputs": [
    {
     "data": {
      "text/plain": [
       "array([[77.56888]], dtype=float32)"
      ]
     },
     "execution_count": 12,
     "metadata": {},
     "output_type": "execute_result"
    }
   ],
   "source": [
    "network.fFindSensorFromID(\"Lanuv\", \"VKCL\").fDataToTraffic(dataDict)"
   ]
  },
  {
   "cell_type": "code",
   "execution_count": null,
   "metadata": {},
   "outputs": [],
   "source": []
  }
 ],
 "metadata": {
  "kernelspec": {
   "display_name": "Python 3",
   "language": "python",
   "name": "python3"
  },
  "language_info": {
   "codemirror_mode": {
    "name": "ipython",
    "version": 3
   },
   "file_extension": ".py",
   "mimetype": "text/x-python",
   "name": "python",
   "nbconvert_exporter": "python",
   "pygments_lexer": "ipython3",
   "version": "3.7.3"
  }
 },
 "nbformat": 4,
 "nbformat_minor": 2
}
