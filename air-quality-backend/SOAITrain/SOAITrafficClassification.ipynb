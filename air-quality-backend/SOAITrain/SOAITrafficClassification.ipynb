{
 "cells": [
  {
   "cell_type": "code",
   "execution_count": 1,
   "metadata": {},
   "outputs": [
    {
     "name": "stdout",
     "output_type": "stream",
     "text": [
      "\u001b[32mINFO - \u001b[32m__init__ : \u001b[32m<module>() - \u001b[32mUse /home/nils/workspace/school_of_ai/projects/air-quality-backend/SOAI/.. as project path.\u001b[0m\n",
      "\u001b[33mWARNING - \u001b[33m__init__ : \u001b[33m<module>() - \u001b[33mSOAI_MODEL_PATH not set\u001b[0m\n",
      "\u001b[32mINFO - \u001b[32m__init__ : \u001b[32m<module>() - \u001b[32mSOAI env var is set to /home/nils/workspace/school_of_ai/projects/air-quality-backend/SOAI/..\u001b[0m\n"
     ]
    }
   ],
   "source": [
    "import os\n",
    "import numpy as np\n",
    "import random\n",
    "import pandas as pd\n",
    "pd.options.display.max_rows = 999\n",
    "\n",
    "from sklearn.model_selection import train_test_split\n",
    "from sklearn.preprocessing import StandardScaler\n",
    "\n",
    "import matplotlib.pyplot as plt\n",
    "from matplotlib.pyplot import subplots\n",
    "\n",
    "import tensorflow as tf\n",
    "\n",
    "from SOAI.handler.SOAIDiskHandler import SOAIDiskHandler"
   ]
  },
  {
   "cell_type": "markdown",
   "metadata": {},
   "source": [
    "## Helper functions"
   ]
  },
  {
   "cell_type": "code",
   "execution_count": 2,
   "metadata": {},
   "outputs": [],
   "source": [
    "def printLists(sensorIDs, dataNO2List, dataTrafficList):\n",
    "    for sensor, dataNO2, dataTraffic in zip(sensorIDs, dataNO2List, dataTrafficList):\n",
    "        print(f\"====== Sensor {sensor} =======\")\n",
    "        print(\"*** Sensor data ***\")\n",
    "        print(f\"Lenght of sensor data {len(dataNO2)}\")\n",
    "        print(dataNO2.head())\n",
    "        print(\"\\n\")\n",
    "        print(\"*** Traffic data ***\")\n",
    "        print(f\"Lenght of traffic data {len(dataTraffic)}\")\n",
    "        print(dataTraffic.head())\n",
    "        print(\"\\n\")"
   ]
  },
  {
   "cell_type": "markdown",
   "metadata": {},
   "source": [
    "## Load data"
   ]
  },
  {
   "cell_type": "code",
   "execution_count": 3,
   "metadata": {
    "scrolled": true
   },
   "outputs": [
    {
     "name": "stdout",
     "output_type": "stream",
     "text": [
      "\u001b[37mDEBUG - \u001b[37mSOAIDiskHandler : \u001b[37mfGetOpenAir() - \u001b[37mLoad OpenAir Cologne data from /home/nils/workspace/school_of_ai/projects/air-quality-backend/SOAI/../data/openair/.\u001b[0m\n",
      "\u001b[37mDEBUG - \u001b[37mSOAIDiskHandler : \u001b[37mfGetOpenAir() - \u001b[37m\t- Load /home/nils/workspace/school_of_ai/projects/air-quality-backend/SOAI/../data/openair/df_openair6.parquet\u001b[0m\n",
      "\u001b[37mDEBUG - \u001b[37mSOAIDiskHandler : \u001b[37mfGetOpenAir() - \u001b[37m\t- Load /home/nils/workspace/school_of_ai/projects/air-quality-backend/SOAI/../data/openair/df_openair2.parquet\u001b[0m\n",
      "\u001b[37mDEBUG - \u001b[37mSOAIDiskHandler : \u001b[37mfGetOpenAir() - \u001b[37m\t- Load /home/nils/workspace/school_of_ai/projects/air-quality-backend/SOAI/../data/openair/df_openair4.parquet\u001b[0m\n",
      "\u001b[37mDEBUG - \u001b[37mSOAIDiskHandler : \u001b[37mfGetOpenAir() - \u001b[37m\t- Load /home/nils/workspace/school_of_ai/projects/air-quality-backend/SOAI/../data/openair/df_openair3.parquet\u001b[0m\n",
      "\u001b[37mDEBUG - \u001b[37mSOAIDiskHandler : \u001b[37mfGetOpenAir() - \u001b[37m\t- Load /home/nils/workspace/school_of_ai/projects/air-quality-backend/SOAI/../data/openair/df_openair5.parquet\u001b[0m\n",
      "\u001b[37mDEBUG - \u001b[37mSOAIDiskHandler : \u001b[37mfGetOpenAir() - \u001b[37m\t- Load /home/nils/workspace/school_of_ai/projects/air-quality-backend/SOAI/../data/openair/df_openair9.parquet\u001b[0m\n",
      "\u001b[37mDEBUG - \u001b[37mSOAIDiskHandler : \u001b[37mfGetOpenAir() - \u001b[37m\t- Load /home/nils/workspace/school_of_ai/projects/air-quality-backend/SOAI/../data/openair/df_openair1.parquet\u001b[0m\n",
      "\u001b[37mDEBUG - \u001b[37mSOAIDiskHandler : \u001b[37mfGetOpenAir() - \u001b[37m\t- Load /home/nils/workspace/school_of_ai/projects/air-quality-backend/SOAI/../data/openair/df_openair0.parquet\u001b[0m\n",
      "\u001b[37mDEBUG - \u001b[37mSOAIDiskHandler : \u001b[37mfGetOpenAir() - \u001b[37m\t- Load /home/nils/workspace/school_of_ai/projects/air-quality-backend/SOAI/../data/openair/df_openair7.parquet\u001b[0m\n",
      "\u001b[37mDEBUG - \u001b[37mSOAIDiskHandler : \u001b[37mfGetOpenAir() - \u001b[37m\t- Load /home/nils/workspace/school_of_ai/projects/air-quality-backend/SOAI/../data/openair/df_openair8.parquet\u001b[0m\n",
      "\u001b[32mINFO - \u001b[32mSOAIDataHandler : \u001b[32m_fCheckOpenAir() - \u001b[32mSelect only valid data with query {hum <= 100 and r1!=-1 and r2!=-1}\u001b[0m\n",
      "\u001b[37mDEBUG - \u001b[37mSOAIDiskHandler : \u001b[37mfGetOpenAirSensors() - \u001b[37mLoad open air sensor properties from /home/nils/workspace/school_of_ai/projects/air-quality-backend/SOAI/../data/openair/sensors.json.\u001b[0m\n",
      "\u001b[37mDEBUG - \u001b[37mSOAIDiskHandler : \u001b[37mfGetLanuv() - \u001b[37mLoad Lanuv data from /home/nils/workspace/school_of_ai/projects/air-quality-backend/SOAI/../data/lanuv/.\u001b[0m\n",
      "\u001b[37mDEBUG - \u001b[37mSOAIDiskHandler : \u001b[37mfGetLanuv() - \u001b[37m\t- Load /home/nils/workspace/school_of_ai/projects/air-quality-backend/SOAI/../data/lanuv/df_lanuv5.parquet\u001b[0m\n",
      "\u001b[37mDEBUG - \u001b[37mSOAIDiskHandler : \u001b[37mfGetLanuv() - \u001b[37m\t- Load /home/nils/workspace/school_of_ai/projects/air-quality-backend/SOAI/../data/lanuv/df_lanuv7.parquet\u001b[0m\n",
      "\u001b[37mDEBUG - \u001b[37mSOAIDiskHandler : \u001b[37mfGetLanuv() - \u001b[37m\t- Load /home/nils/workspace/school_of_ai/projects/air-quality-backend/SOAI/../data/lanuv/df_lanuv2.parquet\u001b[0m\n",
      "\u001b[37mDEBUG - \u001b[37mSOAIDiskHandler : \u001b[37mfGetLanuv() - \u001b[37m\t- Load /home/nils/workspace/school_of_ai/projects/air-quality-backend/SOAI/../data/lanuv/df_lanuv6.parquet\u001b[0m\n",
      "\u001b[37mDEBUG - \u001b[37mSOAIDiskHandler : \u001b[37mfGetLanuv() - \u001b[37m\t- Load /home/nils/workspace/school_of_ai/projects/air-quality-backend/SOAI/../data/lanuv/df_lanuv1.parquet\u001b[0m\n",
      "\u001b[37mDEBUG - \u001b[37mSOAIDiskHandler : \u001b[37mfGetLanuv() - \u001b[37m\t- Load /home/nils/workspace/school_of_ai/projects/air-quality-backend/SOAI/../data/lanuv/df_lanuv3.parquet\u001b[0m\n",
      "\u001b[37mDEBUG - \u001b[37mSOAIDiskHandler : \u001b[37mfGetLanuv() - \u001b[37m\t- Load /home/nils/workspace/school_of_ai/projects/air-quality-backend/SOAI/../data/lanuv/df_lanuv0.parquet\u001b[0m\n",
      "\u001b[37mDEBUG - \u001b[37mSOAIDiskHandler : \u001b[37mfGetLanuv() - \u001b[37m\t- Load /home/nils/workspace/school_of_ai/projects/air-quality-backend/SOAI/../data/lanuv/df_lanuv4.parquet\u001b[0m\n",
      "\u001b[33mWARNING - \u001b[33mSOAIDataHandler : \u001b[33m_fCheckLanuv() - \u001b[33mSelect valid data is set to true, but no rules for valid data are given.\u001b[0m\n",
      "\u001b[37mDEBUG - \u001b[37mSOAIDiskHandler : \u001b[37mfGetLanuvSensors() - \u001b[37mLoad lanuv sensor properties from /home/nils/workspace/school_of_ai/projects/air-quality-backend/SOAI/../data/lanuv/sensors.csv.\u001b[0m\n",
      "\u001b[37mDEBUG - \u001b[37mSOAIDiskHandler : \u001b[37mfGetTrafficData() - \u001b[37mLoad traffic data from /home/nils/workspace/school_of_ai/projects/air-quality-backend/SOAI/../data/traffic/.\u001b[0m\n",
      "\u001b[37mDEBUG - \u001b[37mSOAIDiskHandler : \u001b[37mfGetTrafficData() - \u001b[37m\t- Load /home/nils/workspace/school_of_ai/projects/air-quality-backend/SOAI/../data/traffic/RODE_5_20200410.csv with informations ['RODE', '5', '20200410.csv'].\u001b[0m\n",
      "\u001b[33mWARNING - \u001b[33mSOAIDiskHandler : \u001b[33mfGetTrafficData() - \u001b[33mNot data was found. Skip this file.\u001b[0m\n",
      "\u001b[37mDEBUG - \u001b[37mSOAIDiskHandler : \u001b[37mfGetTrafficData() - \u001b[37m\t- Load /home/nils/workspace/school_of_ai/projects/air-quality-backend/SOAI/../data/traffic/VKCL_20_20200410.csv with informations ['VKCL', '20', '20200410.csv'].\u001b[0m\n",
      "\u001b[37mDEBUG - \u001b[37mSOAIDiskHandler : \u001b[37mfGetTrafficData() - \u001b[37m\t- Load /home/nils/workspace/school_of_ai/projects/air-quality-backend/SOAI/../data/traffic/RODE_3_20200410.csv with informations ['RODE', '3', '20200410.csv'].\u001b[0m\n",
      "\u001b[33mWARNING - \u001b[33mSOAIDiskHandler : \u001b[33mfGetTrafficData() - \u001b[33mNot data was found. Skip this file.\u001b[0m\n",
      "\u001b[37mDEBUG - \u001b[37mSOAIDiskHandler : \u001b[37mfGetTrafficData() - \u001b[37m\t- Load /home/nils/workspace/school_of_ai/projects/air-quality-backend/SOAI/../data/traffic/VKTU_3_20200410.csv with informations ['VKTU', '3', '20200410.csv'].\u001b[0m\n",
      "\u001b[37mDEBUG - \u001b[37mSOAIDiskHandler : \u001b[37mfGetTrafficData() - \u001b[37m\t- Load /home/nils/workspace/school_of_ai/projects/air-quality-backend/SOAI/../data/traffic/RODE_20_20200410.csv with informations ['RODE', '20', '20200410.csv'].\u001b[0m\n",
      "\u001b[33mWARNING - \u001b[33mSOAIDiskHandler : \u001b[33mfGetTrafficData() - \u001b[33mNot data was found. Skip this file.\u001b[0m\n",
      "\u001b[37mDEBUG - \u001b[37mSOAIDiskHandler : \u001b[37mfGetTrafficData() - \u001b[37m\t- Load /home/nils/workspace/school_of_ai/projects/air-quality-backend/SOAI/../data/traffic/VKCL_5_20200409.csv with informations ['VKCL', '5', '20200409.csv'].\u001b[0m\n",
      "\u001b[37mDEBUG - \u001b[37mSOAIDiskHandler : \u001b[37mfGetTrafficData() - \u001b[37m\t- Load /home/nils/workspace/school_of_ai/projects/air-quality-backend/SOAI/../data/traffic/VKTU_10_20200410.csv with informations ['VKTU', '10', '20200410.csv'].\u001b[0m\n",
      "\u001b[37mDEBUG - \u001b[37mSOAIDiskHandler : \u001b[37mfGetTrafficData() - \u001b[37m\t- Load /home/nils/workspace/school_of_ai/projects/air-quality-backend/SOAI/../data/traffic/RODE_10_20200410.csv with informations ['RODE', '10', '20200410.csv'].\u001b[0m\n",
      "\u001b[33mWARNING - \u001b[33mSOAIDiskHandler : \u001b[33mfGetTrafficData() - \u001b[33mNot data was found. Skip this file.\u001b[0m\n",
      "\u001b[37mDEBUG - \u001b[37mSOAIDiskHandler : \u001b[37mfGetTrafficData() - \u001b[37m\t- Load /home/nils/workspace/school_of_ai/projects/air-quality-backend/SOAI/../data/traffic/VKCL_10_20200410.csv with informations ['VKCL', '10', '20200410.csv'].\u001b[0m\n",
      "\u001b[37mDEBUG - \u001b[37mSOAIDiskHandler : \u001b[37mfGetTrafficData() - \u001b[37m\t- Load /home/nils/workspace/school_of_ai/projects/air-quality-backend/SOAI/../data/traffic/VKTU_20_20200410.csv with informations ['VKTU', '20', '20200410.csv'].\u001b[0m\n",
      "\u001b[37mDEBUG - \u001b[37mSOAIDiskHandler : \u001b[37mfGetTrafficData() - \u001b[37m\t- Load /home/nils/workspace/school_of_ai/projects/air-quality-backend/SOAI/../data/traffic/VKTU_5_20200410.csv with informations ['VKTU', '5', '20200410.csv'].\u001b[0m\n",
      "\u001b[37mDEBUG - \u001b[37mSOAIDiskHandler : \u001b[37mfGetTrafficData() - \u001b[37m\t- Load /home/nils/workspace/school_of_ai/projects/air-quality-backend/SOAI/../data/traffic/VKCL_3_20200409.csv with informations ['VKCL', '3', '20200409.csv'].\u001b[0m\n"
     ]
    }
   ],
   "source": [
    "dataHandler = SOAIDiskHandler()\n",
    "\n",
    "dfOpenAir = dataHandler.fGetOpenAir(os.environ.get(\"SOAI\") + \"/data/openair/\", selectValidData=True)\n",
    "dfOpenAirLocation = dataHandler.fGetOpenAirSensors()\n",
    "\n",
    "dfLanuv = dataHandler.fGetLanuv(os.environ.get(\"SOAI\") + \"/data/lanuv/\", selectValidData=True)\n",
    "dfLanuv.index = dfLanuv.index.tz_localize(None)  # Needed to joind with traffic data later on\n",
    "dfLanuv.index =  pd.to_datetime(dfLanuv.index, format='%Y-%m-%d %H:%M:%S')\n",
    "dfLanuvLocation = dataHandler.fGetLanuvSensors()\n",
    "\n",
    "dfTraffic = dataHandler.fGetTrafficData(os.environ.get(\"SOAI\") + \"/data/traffic/\")"
   ]
  },
  {
   "cell_type": "code",
   "execution_count": 4,
   "metadata": {},
   "outputs": [
    {
     "data": {
      "text/html": [
       "<div>\n",
       "<style scoped>\n",
       "    .dataframe tbody tr th:only-of-type {\n",
       "        vertical-align: middle;\n",
       "    }\n",
       "\n",
       "    .dataframe tbody tr th {\n",
       "        vertical-align: top;\n",
       "    }\n",
       "\n",
       "    .dataframe thead th {\n",
       "        text-align: right;\n",
       "    }\n",
       "</style>\n",
       "<table border=\"1\" class=\"dataframe\">\n",
       "  <thead>\n",
       "    <tr style=\"text-align: right;\">\n",
       "      <th></th>\n",
       "      <th>green</th>\n",
       "      <th>orange</th>\n",
       "      <th>red</th>\n",
       "      <th>brown</th>\n",
       "      <th>pixelCounterSensor</th>\n",
       "      <th>rgreen</th>\n",
       "      <th>rorange</th>\n",
       "      <th>rred</th>\n",
       "      <th>rbrown</th>\n",
       "      <th>sensorID</th>\n",
       "      <th>pixel</th>\n",
       "    </tr>\n",
       "    <tr>\n",
       "      <th>date</th>\n",
       "      <th></th>\n",
       "      <th></th>\n",
       "      <th></th>\n",
       "      <th></th>\n",
       "      <th></th>\n",
       "      <th></th>\n",
       "      <th></th>\n",
       "      <th></th>\n",
       "      <th></th>\n",
       "      <th></th>\n",
       "      <th></th>\n",
       "    </tr>\n",
       "  </thead>\n",
       "  <tbody>\n",
       "    <tr>\n",
       "      <th>2019-08-01</th>\n",
       "      <td>2313.0</td>\n",
       "      <td>0.0</td>\n",
       "      <td>0.0</td>\n",
       "      <td>0.0</td>\n",
       "      <td>2313.0</td>\n",
       "      <td>1.0</td>\n",
       "      <td>0.0</td>\n",
       "      <td>0.0</td>\n",
       "      <td>0.0</td>\n",
       "      <td>VKCL</td>\n",
       "      <td>20</td>\n",
       "    </tr>\n",
       "    <tr>\n",
       "      <th>2019-08-01</th>\n",
       "      <td>647.0</td>\n",
       "      <td>0.0</td>\n",
       "      <td>0.0</td>\n",
       "      <td>0.0</td>\n",
       "      <td>647.0</td>\n",
       "      <td>1.0</td>\n",
       "      <td>0.0</td>\n",
       "      <td>0.0</td>\n",
       "      <td>0.0</td>\n",
       "      <td>VKCL</td>\n",
       "      <td>5</td>\n",
       "    </tr>\n",
       "    <tr>\n",
       "      <th>2019-08-01</th>\n",
       "      <td>943.0</td>\n",
       "      <td>0.0</td>\n",
       "      <td>0.0</td>\n",
       "      <td>0.0</td>\n",
       "      <td>943.0</td>\n",
       "      <td>1.0</td>\n",
       "      <td>0.0</td>\n",
       "      <td>0.0</td>\n",
       "      <td>0.0</td>\n",
       "      <td>VKTU</td>\n",
       "      <td>10</td>\n",
       "    </tr>\n",
       "    <tr>\n",
       "      <th>2019-08-01</th>\n",
       "      <td>382.0</td>\n",
       "      <td>0.0</td>\n",
       "      <td>0.0</td>\n",
       "      <td>0.0</td>\n",
       "      <td>382.0</td>\n",
       "      <td>1.0</td>\n",
       "      <td>0.0</td>\n",
       "      <td>0.0</td>\n",
       "      <td>0.0</td>\n",
       "      <td>VKCL</td>\n",
       "      <td>3</td>\n",
       "    </tr>\n",
       "    <tr>\n",
       "      <th>2019-08-01</th>\n",
       "      <td>1811.0</td>\n",
       "      <td>0.0</td>\n",
       "      <td>0.0</td>\n",
       "      <td>0.0</td>\n",
       "      <td>1811.0</td>\n",
       "      <td>1.0</td>\n",
       "      <td>0.0</td>\n",
       "      <td>0.0</td>\n",
       "      <td>0.0</td>\n",
       "      <td>VKTU</td>\n",
       "      <td>20</td>\n",
       "    </tr>\n",
       "  </tbody>\n",
       "</table>\n",
       "</div>"
      ],
      "text/plain": [
       "             green  orange  red  brown  pixelCounterSensor  rgreen  rorange  \\\n",
       "date                                                                          \n",
       "2019-08-01  2313.0     0.0  0.0    0.0              2313.0     1.0      0.0   \n",
       "2019-08-01   647.0     0.0  0.0    0.0               647.0     1.0      0.0   \n",
       "2019-08-01   943.0     0.0  0.0    0.0               943.0     1.0      0.0   \n",
       "2019-08-01   382.0     0.0  0.0    0.0               382.0     1.0      0.0   \n",
       "2019-08-01  1811.0     0.0  0.0    0.0              1811.0     1.0      0.0   \n",
       "\n",
       "            rred  rbrown sensorID  pixel  \n",
       "date                                      \n",
       "2019-08-01   0.0     0.0     VKCL     20  \n",
       "2019-08-01   0.0     0.0     VKCL      5  \n",
       "2019-08-01   0.0     0.0     VKTU     10  \n",
       "2019-08-01   0.0     0.0     VKCL      3  \n",
       "2019-08-01   0.0     0.0     VKTU     20  "
      ]
     },
     "execution_count": 4,
     "metadata": {},
     "output_type": "execute_result"
    }
   ],
   "source": [
    "dfTraffic.head()"
   ]
  },
  {
   "cell_type": "markdown",
   "metadata": {},
   "source": [
    "## Filter and prepare data"
   ]
  },
  {
   "cell_type": "code",
   "execution_count": 11,
   "metadata": {},
   "outputs": [],
   "source": [
    "# Choose the sensors and the pixel size around each sensor\n",
    "\n",
    "#sensorIDs = [\"VKCL\", \"CHOR\", \"VKTU\", \"RODE\"]\n",
    "#sensorIDs = [\"VKCL\", \"VKTU\"]\n",
    "sensorIDs = [\"VKCL\"]\n",
    "\n",
    "pixelAroundSensor = 5"
   ]
  },
  {
   "cell_type": "code",
   "execution_count": 12,
   "metadata": {},
   "outputs": [
    {
     "name": "stdout",
     "output_type": "stream",
     "text": [
      "====== Sensor VKCL =======\n",
      "*** Sensor data ***\n",
      "Lenght of sensor data 11713\n",
      "                    sensorID    NO  OZON   no2  wr  wg  temp  wtime  hum\n",
      "timestamp                                                               \n",
      "2018-08-14 08:00:00     VKCL  92.0   NaN  53.0 NaN NaN   NaN    NaN  NaN\n",
      "2018-08-14 10:00:00     VKCL  78.0   NaN  55.0 NaN NaN   NaN    NaN  NaN\n",
      "2018-08-14 11:00:00     VKCL  68.0   NaN  55.0 NaN NaN   NaN    NaN  NaN\n",
      "2018-08-14 12:00:00     VKCL  70.0   NaN  55.0 NaN NaN   NaN    NaN  NaN\n",
      "2018-08-14 13:00:00     VKCL  82.0   NaN  75.0 NaN NaN   NaN    NaN  NaN\n",
      "\n",
      "\n",
      "*** Traffic data ***\n",
      "Lenght of traffic data 20140\n",
      "                     green  orange  red  brown  pixelCounterSensor  rgreen  \\\n",
      "date                                                                         \n",
      "2019-08-01 00:00:00  647.0     0.0  0.0    0.0               647.0     1.0   \n",
      "2019-08-01 00:15:00  614.0     0.0  0.0    0.0               614.0     1.0   \n",
      "2019-08-01 00:30:00  644.0     0.0  0.0    0.0               644.0     1.0   \n",
      "2019-08-01 00:45:00  613.0     0.0  0.0    0.0               613.0     1.0   \n",
      "2019-08-01 01:00:00  568.0     0.0  0.0    0.0               568.0     1.0   \n",
      "\n",
      "                     rorange  rred  rbrown sensorID  pixel  \n",
      "date                                                        \n",
      "2019-08-01 00:00:00      0.0   0.0     0.0     VKCL      5  \n",
      "2019-08-01 00:15:00      0.0   0.0     0.0     VKCL      5  \n",
      "2019-08-01 00:30:00      0.0   0.0     0.0     VKCL      5  \n",
      "2019-08-01 00:45:00      0.0   0.0     0.0     VKCL      5  \n",
      "2019-08-01 01:00:00      0.0   0.0     0.0     VKCL      5  \n",
      "\n",
      "\n"
     ]
    }
   ],
   "source": [
    "# Use list to process data, since multiple sensor can be used for training\n",
    "# Each element in the list corresponds to one dataframe for one sensor\n",
    "dataNO2List = []\n",
    "dataTrafficList = []\n",
    "\n",
    "for sensor in sensorIDs:\n",
    "    dataNO2 = dfLanuv[dfLanuv[\"sensorID\"] == sensor]\n",
    "    dataNO2List.append(dataNO2)\n",
    "    \n",
    "    dataTraffic = dfTraffic[dfTraffic[\"sensorID\"] == sensor]\n",
    "    dataTraffic = dataTraffic[dataTraffic[\"pixel\"] == pixelAroundSensor]\n",
    "    dataTrafficList.append(dataTraffic)\n",
    "    \n",
    "printLists(sensorIDs, dataNO2List, dataTrafficList)"
   ]
  },
  {
   "cell_type": "markdown",
   "metadata": {},
   "source": [
    "Resample data and keep overlapp between no2 dataframe and traffic dataframe"
   ]
  },
  {
   "cell_type": "code",
   "execution_count": 13,
   "metadata": {},
   "outputs": [],
   "source": [
    "for i in range(len(sensorIDs)):\n",
    "    dataNO2List[i] = dataNO2List[i].resample(\"1h\").mean()\n",
    "    dataTrafficList[i] = dataTrafficList[i].resample(\"1h\").mean()\n",
    "    \n",
    "    timeMin = max(dataNO2List[i].index.min(), dataTrafficList[i].index.min())\n",
    "    timeMax = min(dataNO2List[i].index.max(), dataTrafficList[i].index.max())\n",
    "\n",
    "    dataNO2List[i] = dataNO2List[i].loc[(dataNO2List[i].index >= timeMin) & (dataNO2List[i].index <=   timeMax)]\n",
    "    dataTrafficList[i] = dataTrafficList[i].loc[(dataTrafficList[i].index >= timeMin) & (dataTrafficList[i].index <= timeMax)]"
   ]
  },
  {
   "cell_type": "markdown",
   "metadata": {},
   "source": [
    "Enrich features and interpolate"
   ]
  },
  {
   "cell_type": "code",
   "execution_count": 14,
   "metadata": {},
   "outputs": [],
   "source": [
    "for i in range(len(sensorIDs)):\n",
    "    dataNO2List[i][\"wr_cos\"] = dataNO2List[i][\"wr\"].apply(lambda x: np.cos(x))\n",
    "    dataNO2List[i][\"wr_sin\"] = dataNO2List[i][\"wr\"].apply(lambda x: np.sin(x))\n",
    "\n",
    "    dataNO2List[i][\"no2_ip\"] = dataNO2List[i].interpolate()[\"no2\"]\n",
    "    dataNO2List[i][\"wg_ip\"] = dataNO2List[i].interpolate()[\"wg\"]\n",
    "    dataNO2List[i][\"hum_ip\"] = dataNO2List[i].interpolate()[\"hum\"]\n",
    "    dataNO2List[i][\"temp_ip\"] = dataNO2List[i].interpolate()[\"temp\"]\n",
    "    dataNO2List[i][\"wr_cos_ip\"] = dataNO2List[i].interpolate()[\"wr_cos\"]\n",
    "    dataNO2List[i][\"wr_sin_ip\"] = dataNO2List[i].interpolate()[\"wr_sin\"]\n",
    "    \n",
    "    # Append classification information\n",
    "    featureUpAndDown = []\n",
    "    no2Values = dataNO2List[i][\"no2_ip\"]\n",
    "    for j in range(0, len(no2Values)-1):\n",
    "        upAndDown = 0\n",
    "        if no2Values[j+1] > no2Values[j]:\n",
    "            upAndDown = 1\n",
    "        else:\n",
    "            upAndDown = 0\n",
    "        featureUpAndDown.append(upAndDown)\n",
    "    featureUpAndDown.append(0)\n",
    "    dataNO2List[i][\"no2_ip_trend\"] = featureUpAndDown"
   ]
  },
  {
   "cell_type": "code",
   "execution_count": 15,
   "metadata": {},
   "outputs": [],
   "source": [
    "dataTrainList = []\n",
    "for i in range(len(sensorIDs)):\n",
    "    dataTrain = pd.concat([dataNO2List[i], dataTrafficList[i]], sort=False, axis=1)\n",
    "    dataTrainList.append(dataTrain)\n",
    "\n",
    "dataTrain = pd.concat(dataTrainList)"
   ]
  },
  {
   "cell_type": "code",
   "execution_count": 27,
   "metadata": {},
   "outputs": [
    {
     "data": {
      "text/html": [
       "<div>\n",
       "<style scoped>\n",
       "    .dataframe tbody tr th:only-of-type {\n",
       "        vertical-align: middle;\n",
       "    }\n",
       "\n",
       "    .dataframe tbody tr th {\n",
       "        vertical-align: top;\n",
       "    }\n",
       "\n",
       "    .dataframe thead th {\n",
       "        text-align: right;\n",
       "    }\n",
       "</style>\n",
       "<table border=\"1\" class=\"dataframe\">\n",
       "  <thead>\n",
       "    <tr style=\"text-align: right;\">\n",
       "      <th></th>\n",
       "      <th>no2</th>\n",
       "      <th>no2_ip_trend</th>\n",
       "    </tr>\n",
       "    <tr>\n",
       "      <th>timestamp</th>\n",
       "      <th></th>\n",
       "      <th></th>\n",
       "    </tr>\n",
       "  </thead>\n",
       "  <tbody>\n",
       "    <tr>\n",
       "      <th>2019-08-26 00:00:00</th>\n",
       "      <td>87.0</td>\n",
       "      <td>0</td>\n",
       "    </tr>\n",
       "    <tr>\n",
       "      <th>2019-08-26 01:00:00</th>\n",
       "      <td>79.0</td>\n",
       "      <td>0</td>\n",
       "    </tr>\n",
       "    <tr>\n",
       "      <th>2019-08-26 02:00:00</th>\n",
       "      <td>75.0</td>\n",
       "      <td>0</td>\n",
       "    </tr>\n",
       "    <tr>\n",
       "      <th>2019-08-26 03:00:00</th>\n",
       "      <td>61.0</td>\n",
       "      <td>0</td>\n",
       "    </tr>\n",
       "    <tr>\n",
       "      <th>2019-08-26 04:00:00</th>\n",
       "      <td>57.0</td>\n",
       "      <td>1</td>\n",
       "    </tr>\n",
       "    <tr>\n",
       "      <th>...</th>\n",
       "      <td>...</td>\n",
       "      <td>...</td>\n",
       "    </tr>\n",
       "    <tr>\n",
       "      <th>2020-02-26 14:00:00</th>\n",
       "      <td>45.0</td>\n",
       "      <td>1</td>\n",
       "    </tr>\n",
       "    <tr>\n",
       "      <th>2020-02-26 15:00:00</th>\n",
       "      <td>59.0</td>\n",
       "      <td>1</td>\n",
       "    </tr>\n",
       "    <tr>\n",
       "      <th>2020-02-26 16:00:00</th>\n",
       "      <td>61.0</td>\n",
       "      <td>0</td>\n",
       "    </tr>\n",
       "    <tr>\n",
       "      <th>2020-02-26 17:00:00</th>\n",
       "      <td>NaN</td>\n",
       "      <td>0</td>\n",
       "    </tr>\n",
       "    <tr>\n",
       "      <th>2020-02-26 18:00:00</th>\n",
       "      <td>39.0</td>\n",
       "      <td>0</td>\n",
       "    </tr>\n",
       "  </tbody>\n",
       "</table>\n",
       "<p>4435 rows × 2 columns</p>\n",
       "</div>"
      ],
      "text/plain": [
       "                      no2  no2_ip_trend\n",
       "timestamp                              \n",
       "2019-08-26 00:00:00  87.0             0\n",
       "2019-08-26 01:00:00  79.0             0\n",
       "2019-08-26 02:00:00  75.0             0\n",
       "2019-08-26 03:00:00  61.0             0\n",
       "2019-08-26 04:00:00  57.0             1\n",
       "...                   ...           ...\n",
       "2020-02-26 14:00:00  45.0             1\n",
       "2020-02-26 15:00:00  59.0             1\n",
       "2020-02-26 16:00:00  61.0             0\n",
       "2020-02-26 17:00:00   NaN             0\n",
       "2020-02-26 18:00:00  39.0             0\n",
       "\n",
       "[4435 rows x 2 columns]"
      ]
     },
     "execution_count": 27,
     "metadata": {},
     "output_type": "execute_result"
    }
   ],
   "source": [
    "dataTrain[[\"no2\", \"no2_ip_trend\"]]"
   ]
  },
  {
   "cell_type": "markdown",
   "metadata": {},
   "source": [
    "## Train the model"
   ]
  },
  {
   "cell_type": "markdown",
   "metadata": {},
   "source": [
    "Set input and output features"
   ]
  },
  {
   "cell_type": "code",
   "execution_count": 16,
   "metadata": {},
   "outputs": [],
   "source": [
    "#featureNames = [\"rgreen\", \"rorange\", \"rred\", \"rbrown\", \"hum_ip\", \"temp_ip\", \"wg_ip\", \"wr_cos_ip\", \"wr_sin_ip\"]\n",
    "featureNames = [\"no2_ip\", \"rgreen\", \"rorange\", \"rred\", \"rbrown\", \"hum_ip\", \"temp_ip\", \"wg_ip\"]\n",
    "#featureNames = [\"rgreen\", \"rorange\", \"rred\", \"rbrown\"]\n",
    "targetName = [\"no2_ip_trend\"]\n",
    "nFeatures = len(featureNames)\n",
    "\n",
    "dataTrain = dataTrain.dropna(subset=featureNames + targetName)\n",
    "\n",
    "features = dataTrain[featureNames].values\n",
    "target = dataTrain[targetName].values\n",
    "indexTime = dataTrain.index"
   ]
  },
  {
   "cell_type": "markdown",
   "metadata": {},
   "source": [
    "Scale input features"
   ]
  },
  {
   "cell_type": "code",
   "execution_count": 17,
   "metadata": {},
   "outputs": [],
   "source": [
    "scaler = StandardScaler()\n",
    "featuresScaled = scaler.fit_transform(features)"
   ]
  },
  {
   "cell_type": "markdown",
   "metadata": {},
   "source": [
    "Create train / test split"
   ]
  },
  {
   "cell_type": "code",
   "execution_count": 18,
   "metadata": {},
   "outputs": [],
   "source": [
    "featuresTrain, featuresTest, targetTrain, targetTest = train_test_split(featuresScaled, target, test_size=0.1, shuffle=False)\n",
    "indexTrain, indexTest = train_test_split(indexTime, test_size=0.1, shuffle=False)"
   ]
  },
  {
   "cell_type": "markdown",
   "metadata": {},
   "source": [
    "### Classifier (up and down)"
   ]
  },
  {
   "cell_type": "markdown",
   "metadata": {},
   "source": [
    "Create model"
   ]
  },
  {
   "cell_type": "code",
   "execution_count": 25,
   "metadata": {
    "scrolled": true
   },
   "outputs": [
    {
     "name": "stdout",
     "output_type": "stream",
     "text": [
      "Model: \"model\"\n",
      "_________________________________________________________________\n",
      "Layer (type)                 Output Shape              Param #   \n",
      "=================================================================\n",
      "input_1 (InputLayer)         [(None, 8)]               0         \n",
      "_________________________________________________________________\n",
      "dense (Dense)                (None, 20)                180       \n",
      "_________________________________________________________________\n",
      "dense_1 (Dense)              (None, 10)                210       \n",
      "_________________________________________________________________\n",
      "dense_2 (Dense)              (None, 5)                 55        \n",
      "_________________________________________________________________\n",
      "dense_3 (Dense)              (None, 1)                 6         \n",
      "=================================================================\n",
      "Total params: 451\n",
      "Trainable params: 451\n",
      "Non-trainable params: 0\n",
      "_________________________________________________________________\n"
     ]
    }
   ],
   "source": [
    "seed_value= 40\n",
    "\n",
    "tf.keras.backend.clear_session()\n",
    "tf.random.set_seed(seed_value)\n",
    "os.environ['PYTHONHASHSEED']=str(seed_value)\n",
    "random.seed(seed_value)\n",
    "np.random.seed(seed_value)\n",
    "\n",
    "epochs=50\n",
    "batch=20\n",
    "lr = 0.005\n",
    "\n",
    "input1 = tf.keras.Input((nFeatures,))\n",
    "dense1 = tf.keras.layers.Dense(20, activation=\"relu\")(input1)\n",
    "dense2 = tf.keras.layers.Dense(10, activation=\"relu\")(dense1)\n",
    "dense3 = tf.keras.layers.Dense(5, activation=\"relu\")(dense2)\n",
    "output = tf.keras.layers.Dense(1, activation=\"sigmoid\")(dense3) # activation=\"linear\"\n",
    "\n",
    "model = tf.keras.Model(inputs=[input1], outputs=[output])\n",
    "model.compile(optimizer=tf.keras.optimizers.Adam(lr, decay=lr/epochs), loss=\"binary_crossentropy\", metrics=[\"accuracy\"])\n",
    "model.summary()"
   ]
  },
  {
   "cell_type": "markdown",
   "metadata": {},
   "source": [
    "Train"
   ]
  },
  {
   "cell_type": "code",
   "execution_count": 24,
   "metadata": {
    "scrolled": false
   },
   "outputs": [
    {
     "name": "stdout",
     "output_type": "stream",
     "text": [
      "Train on 3591 samples, validate on 400 samples\n",
      "Epoch 1/50\n",
      "3591/3591 [==============================] - 2s 443us/sample - loss: 0.6694 - accuracy: 0.5893 - val_loss: 0.6447 - val_accuracy: 0.6300\n",
      "Epoch 2/50\n",
      "3591/3591 [==============================] - 1s 225us/sample - loss: 0.6575 - accuracy: 0.6004 - val_loss: 0.6446 - val_accuracy: 0.6400\n",
      "Epoch 3/50\n",
      "3591/3591 [==============================] - 1s 207us/sample - loss: 0.6552 - accuracy: 0.6157 - val_loss: 0.6506 - val_accuracy: 0.6150\n",
      "Epoch 4/50\n",
      "3591/3591 [==============================] - 1s 201us/sample - loss: 0.6518 - accuracy: 0.6107 - val_loss: 0.6556 - val_accuracy: 0.6075\n",
      "Epoch 5/50\n",
      "3591/3591 [==============================] - 1s 200us/sample - loss: 0.6519 - accuracy: 0.6188 - val_loss: 0.6533 - val_accuracy: 0.6100\n",
      "Epoch 6/50\n",
      "3591/3591 [==============================] - 1s 205us/sample - loss: 0.6504 - accuracy: 0.6202 - val_loss: 0.6419 - val_accuracy: 0.6400\n",
      "Epoch 7/50\n",
      "3591/3591 [==============================] - 1s 204us/sample - loss: 0.6461 - accuracy: 0.6188 - val_loss: 0.6523 - val_accuracy: 0.6100\n",
      "Epoch 8/50\n",
      "3591/3591 [==============================] - 1s 204us/sample - loss: 0.6458 - accuracy: 0.6210 - val_loss: 0.6589 - val_accuracy: 0.6025\n",
      "Epoch 9/50\n",
      "3591/3591 [==============================] - 1s 204us/sample - loss: 0.6422 - accuracy: 0.6260 - val_loss: 0.6509 - val_accuracy: 0.6350\n",
      "Epoch 10/50\n",
      "3591/3591 [==============================] - 1s 206us/sample - loss: 0.6443 - accuracy: 0.6260 - val_loss: 0.6489 - val_accuracy: 0.6025\n",
      "Epoch 11/50\n",
      "3591/3591 [==============================] - 1s 203us/sample - loss: 0.6402 - accuracy: 0.6305 - val_loss: 0.6535 - val_accuracy: 0.6100\n",
      "Epoch 12/50\n",
      "3591/3591 [==============================] - 1s 247us/sample - loss: 0.6379 - accuracy: 0.6324 - val_loss: 0.6651 - val_accuracy: 0.6125\n",
      "Epoch 13/50\n",
      "3591/3591 [==============================] - 1s 199us/sample - loss: 0.6377 - accuracy: 0.6327 - val_loss: 0.6609 - val_accuracy: 0.6150\n",
      "Epoch 14/50\n",
      "3591/3591 [==============================] - 1s 209us/sample - loss: 0.6358 - accuracy: 0.6305 - val_loss: 0.6547 - val_accuracy: 0.6200\n",
      "Epoch 15/50\n",
      "3591/3591 [==============================] - 1s 207us/sample - loss: 0.6359 - accuracy: 0.6363 - val_loss: 0.6652 - val_accuracy: 0.6100\n",
      "Epoch 16/50\n",
      "3591/3591 [==============================] - 1s 205us/sample - loss: 0.6350 - accuracy: 0.6338 - val_loss: 0.6567 - val_accuracy: 0.6275\n",
      "Epoch 17/50\n",
      "3591/3591 [==============================] - 1s 241us/sample - loss: 0.6337 - accuracy: 0.6377 - val_loss: 0.6620 - val_accuracy: 0.5900\n",
      "Epoch 18/50\n",
      "3591/3591 [==============================] - 1s 274us/sample - loss: 0.6327 - accuracy: 0.6363 - val_loss: 0.6696 - val_accuracy: 0.5850\n",
      "Epoch 19/50\n",
      "3591/3591 [==============================] - 1s 218us/sample - loss: 0.6301 - accuracy: 0.6408 - val_loss: 0.6727 - val_accuracy: 0.5925\n",
      "Epoch 20/50\n",
      "3591/3591 [==============================] - 1s 215us/sample - loss: 0.6302 - accuracy: 0.6433 - val_loss: 0.6604 - val_accuracy: 0.6125\n",
      "Epoch 21/50\n",
      "3591/3591 [==============================] - 1s 205us/sample - loss: 0.6284 - accuracy: 0.6349 - val_loss: 0.6609 - val_accuracy: 0.6000\n",
      "Epoch 22/50\n",
      "3591/3591 [==============================] - 1s 248us/sample - loss: 0.6285 - accuracy: 0.6430 - val_loss: 0.6674 - val_accuracy: 0.6150\n",
      "Epoch 23/50\n",
      "3591/3591 [==============================] - 1s 222us/sample - loss: 0.6249 - accuracy: 0.6405 - val_loss: 0.6769 - val_accuracy: 0.5750\n",
      "Epoch 24/50\n",
      "3591/3591 [==============================] - 1s 212us/sample - loss: 0.6258 - accuracy: 0.6397 - val_loss: 0.6684 - val_accuracy: 0.5925\n",
      "Epoch 25/50\n",
      "3591/3591 [==============================] - 1s 241us/sample - loss: 0.6229 - accuracy: 0.6463 - val_loss: 0.6800 - val_accuracy: 0.5625\n",
      "Epoch 26/50\n",
      "3591/3591 [==============================] - 1s 260us/sample - loss: 0.6226 - accuracy: 0.6447 - val_loss: 0.6630 - val_accuracy: 0.6025\n",
      "Epoch 27/50\n",
      "3591/3591 [==============================] - 1s 211us/sample - loss: 0.6203 - accuracy: 0.6494 - val_loss: 0.6655 - val_accuracy: 0.5975\n",
      "Epoch 28/50\n",
      "3591/3591 [==============================] - 1s 177us/sample - loss: 0.6203 - accuracy: 0.6516 - val_loss: 0.6728 - val_accuracy: 0.6000\n",
      "Epoch 29/50\n",
      "3591/3591 [==============================] - 1s 219us/sample - loss: 0.6195 - accuracy: 0.6494 - val_loss: 0.6729 - val_accuracy: 0.5775\n",
      "Epoch 30/50\n",
      "3591/3591 [==============================] - 1s 183us/sample - loss: 0.6182 - accuracy: 0.6547 - val_loss: 0.6713 - val_accuracy: 0.5775\n",
      "Epoch 31/50\n",
      "3591/3591 [==============================] - 1s 228us/sample - loss: 0.6168 - accuracy: 0.6530 - val_loss: 0.6809 - val_accuracy: 0.5775\n",
      "Epoch 32/50\n",
      "3591/3591 [==============================] - 1s 234us/sample - loss: 0.6161 - accuracy: 0.6533 - val_loss: 0.6722 - val_accuracy: 0.5950\n",
      "Epoch 33/50\n",
      "3591/3591 [==============================] - 1s 189us/sample - loss: 0.6142 - accuracy: 0.6591 - val_loss: 0.6909 - val_accuracy: 0.5900\n",
      "Epoch 34/50\n",
      "3591/3591 [==============================] - 1s 230us/sample - loss: 0.6140 - accuracy: 0.6511 - val_loss: 0.6875 - val_accuracy: 0.5950\n",
      "Epoch 35/50\n",
      "3591/3591 [==============================] - 1s 222us/sample - loss: 0.6128 - accuracy: 0.6605 - val_loss: 0.6700 - val_accuracy: 0.5850\n",
      "Epoch 36/50\n",
      "3591/3591 [==============================] - 1s 221us/sample - loss: 0.6107 - accuracy: 0.6561 - val_loss: 0.6709 - val_accuracy: 0.6025\n",
      "Epoch 37/50\n",
      "3591/3591 [==============================] - 1s 223us/sample - loss: 0.6095 - accuracy: 0.6619 - val_loss: 0.6746 - val_accuracy: 0.5975\n",
      "Epoch 38/50\n",
      "3591/3591 [==============================] - 1s 234us/sample - loss: 0.6107 - accuracy: 0.6619 - val_loss: 0.6758 - val_accuracy: 0.5975\n",
      "Epoch 39/50\n",
      "3591/3591 [==============================] - 1s 219us/sample - loss: 0.6072 - accuracy: 0.6611 - val_loss: 0.6794 - val_accuracy: 0.5900\n",
      "Epoch 40/50\n",
      "3591/3591 [==============================] - 1s 227us/sample - loss: 0.6067 - accuracy: 0.6605 - val_loss: 0.6759 - val_accuracy: 0.5800\n",
      "Epoch 41/50\n",
      "3591/3591 [==============================] - 1s 208us/sample - loss: 0.6053 - accuracy: 0.6644 - val_loss: 0.6755 - val_accuracy: 0.5925\n",
      "Epoch 42/50\n",
      "3591/3591 [==============================] - 1s 268us/sample - loss: 0.6041 - accuracy: 0.6633 - val_loss: 0.6865 - val_accuracy: 0.6100\n",
      "Epoch 43/50\n",
      "3591/3591 [==============================] - 1s 208us/sample - loss: 0.6042 - accuracy: 0.6642 - val_loss: 0.6810 - val_accuracy: 0.5750\n",
      "Epoch 44/50\n",
      "3591/3591 [==============================] - 1s 210us/sample - loss: 0.6026 - accuracy: 0.6669 - val_loss: 0.6858 - val_accuracy: 0.5950\n",
      "Epoch 45/50\n",
      "3591/3591 [==============================] - 1s 207us/sample - loss: 0.6018 - accuracy: 0.6628 - val_loss: 0.6994 - val_accuracy: 0.5900\n",
      "Epoch 46/50\n",
      "3591/3591 [==============================] - 1s 206us/sample - loss: 0.6011 - accuracy: 0.6667 - val_loss: 0.7012 - val_accuracy: 0.5800\n",
      "Epoch 47/50\n",
      "3591/3591 [==============================] - 1s 233us/sample - loss: 0.6001 - accuracy: 0.6678 - val_loss: 0.6856 - val_accuracy: 0.5900\n",
      "Epoch 48/50\n",
      "3591/3591 [==============================] - 1s 239us/sample - loss: 0.5989 - accuracy: 0.6686 - val_loss: 0.6907 - val_accuracy: 0.5875\n",
      "Epoch 49/50\n",
      "3591/3591 [==============================] - 1s 225us/sample - loss: 0.5978 - accuracy: 0.6722 - val_loss: 0.6921 - val_accuracy: 0.5900\n",
      "Epoch 50/50\n",
      "3591/3591 [==============================] - 1s 237us/sample - loss: 0.5970 - accuracy: 0.6692 - val_loss: 0.6924 - val_accuracy: 0.5975\n",
      "444/1 [========================================================================================================================================================================================================================================================================================================================================================================================================================================================================================================================================================================================================================================================================================================================================================================================================================================================================================================================================================================================================================================================================================================================================================================================================================================================================================================================================================================================================================================================================================================================================================================================================================================================================================================================================================================================================================================================================================================================================================================================================================================================================================================================================================================================================================================================================================================================================================================================================================================================================================================================================================================================================================================================================================================================================================================================================================================================================================================================================================================================================================================================================================================================================================================================================================================================================================================================================================================================================================================================================================================================================================================================================================================================================================================================================================================================================================================================================================================================================================================================================================================================================================================================================================================================================================================================================================================================================================================================================================================================================================================================================================================================================================================================================================================================================================================================================================================================================================================================================================================================================================================================================================================================================================================================================================================================================================================================================================================================================================================================================================================================================================================================================================================================================================================================================================================================================================================================================================================================================================================================================================================================================================================================================================================================================================================================================================================================================================================================================================================================================================================================================================================================================================================================================================================================================================================================================================================================================================================================================================================================================================================================================================================================================================================================================================================================================================================================================================================================================================================================================================================================================================================================================================================================================================================================================================================================================================================================================================================================================================================================================================================================================================================================================================================================================================================================================================================================================================================================================================================================================================================================================================================================================================================================================================================================================================================================================================================================================================================================================================================================================================================================================================================================================================================================================================================================================================================================================================================================================================================================================================================================================================================================================================================================================================================================================================================================================================================================================================================================================================================================================================================================================================================================================================================================================================================================================================================================================================================================================================================================================================================================================================================================================================================================================================================================================================================================================================================================================================================================================================================================================================================================================================================================================================================================================================================================================================================================================================================================================================================================================================================================================================================================================================================================================================================================================================================================================================================================================================================================================================================================================================================================================================================================================================================================================================================================================================================================================================================================================================================================================================================================================================================================================================================================================================================================================================================================================================================================================================================================================================================================================================================================================================================================================================================================================================================================================================================================================================================================================================================================================================================================================================================================================================================================================================================================================================================================================================================================================] - 0s 293us/sample - loss: 0.6899 - accuracy: 0.5631\n"
     ]
    },
    {
     "data": {
      "text/plain": [
       "<matplotlib.axes._subplots.AxesSubplot at 0x7f9fa972a630>"
      ]
     },
     "execution_count": 24,
     "metadata": {},
     "output_type": "execute_result"
    },
    {
     "data": {
      "image/png": "[encoded data removed]",
      "text/plain": [
       "<Figure size 432x288 with 1 Axes>"
      ]
     },
     "metadata": {
      "needs_background": "light"
     },
     "output_type": "display_data"
    }
   ],
   "source": [
    "#checkpoint_sb = keras.callbacks.ModelCheckpoint(\"SOAI.h5\", save_best_only=True)\n",
    "\n",
    "history = model.fit(featuresTrain, targetTrain, epochs=epochs, validation_split=0.1, batch_size=batch)\n",
    "\n",
    "#model = keras.models.load_model(\"SOAI.h5\")\n",
    "\n",
    "model.evaluate(featuresTest, targetTest)\n",
    "prediction = model.predict(featuresTest)\n",
    "predictionTrain = model.predict(featuresTrain)\n",
    "\n",
    "pd.DataFrame(history.history).plot()"
   ]
  },
  {
   "cell_type": "markdown",
   "metadata": {},
   "source": [
    "Plot"
   ]
  },
  {
   "cell_type": "markdown",
   "metadata": {},
   "source": [
    "Training set"
   ]
  },
  {
   "cell_type": "code",
   "execution_count": 28,
   "metadata": {},
   "outputs": [
    {
     "ename": "Exception",
     "evalue": "Data must be 1-dimensional",
     "output_type": "error",
     "traceback": [
      "\u001b[0;31m---------------------------------------------------------------------------\u001b[0m",
      "\u001b[0;31mException\u001b[0m                                 Traceback (most recent call last)",
      "\u001b[0;32m<ipython-input-28-9f7892d92da2>\u001b[0m in \u001b[0;36m<module>\u001b[0;34m\u001b[0m\n\u001b[1;32m      1\u001b[0m \u001b[0mpredictionTrain_plot\u001b[0m \u001b[0;34m=\u001b[0m \u001b[0mpd\u001b[0m\u001b[0;34m.\u001b[0m\u001b[0mSeries\u001b[0m\u001b[0;34m(\u001b[0m\u001b[0mpredictionTrain\u001b[0m\u001b[0;34m.\u001b[0m\u001b[0mT\u001b[0m\u001b[0;34m[\u001b[0m\u001b[0;36m0\u001b[0m\u001b[0;34m]\u001b[0m\u001b[0;34m,\u001b[0m \u001b[0mindex\u001b[0m\u001b[0;34m=\u001b[0m\u001b[0mindexTrain\u001b[0m\u001b[0;34m)\u001b[0m\u001b[0;34m\u001b[0m\u001b[0;34m\u001b[0m\u001b[0m\n\u001b[0;32m----> 2\u001b[0;31m \u001b[0mtargetTrain_plot\u001b[0m \u001b[0;34m=\u001b[0m \u001b[0mpd\u001b[0m\u001b[0;34m.\u001b[0m\u001b[0mSeries\u001b[0m\u001b[0;34m(\u001b[0m\u001b[0mtargetTrain\u001b[0m\u001b[0;34m,\u001b[0m \u001b[0mindex\u001b[0m\u001b[0;34m=\u001b[0m\u001b[0mindexTrain\u001b[0m\u001b[0;34m)\u001b[0m\u001b[0;34m\u001b[0m\u001b[0;34m\u001b[0m\u001b[0m\n\u001b[0m\u001b[1;32m      3\u001b[0m \u001b[0;34m\u001b[0m\u001b[0m\n\u001b[1;32m      4\u001b[0m \u001b[0mfig\u001b[0m\u001b[0;34m,\u001b[0m \u001b[0max\u001b[0m \u001b[0;34m=\u001b[0m \u001b[0msubplots\u001b[0m\u001b[0;34m(\u001b[0m\u001b[0;34m)\u001b[0m\u001b[0;34m\u001b[0m\u001b[0;34m\u001b[0m\u001b[0m\n\u001b[1;32m      5\u001b[0m \u001b[0mtargetTrain_plot\u001b[0m\u001b[0;34m.\u001b[0m\u001b[0mplot\u001b[0m\u001b[0;34m(\u001b[0m\u001b[0mfigsize\u001b[0m\u001b[0;34m=\u001b[0m\u001b[0;34m(\u001b[0m\u001b[0;36m20\u001b[0m\u001b[0;34m,\u001b[0m\u001b[0;36m10\u001b[0m\u001b[0;34m)\u001b[0m\u001b[0;34m,\u001b[0m \u001b[0mfontsize\u001b[0m\u001b[0;34m=\u001b[0m\u001b[0;36m20\u001b[0m\u001b[0;34m,\u001b[0m \u001b[0max\u001b[0m\u001b[0;34m=\u001b[0m\u001b[0max\u001b[0m\u001b[0;34m)\u001b[0m\u001b[0;34m\u001b[0m\u001b[0;34m\u001b[0m\u001b[0m\n",
      "\u001b[0;32m~/workspace/school_of_ai/projects/air-quality-backend/env/air/lib/python3.7/site-packages/pandas/core/series.py\u001b[0m in \u001b[0;36m__init__\u001b[0;34m(self, data, index, dtype, name, copy, fastpath)\u001b[0m\n\u001b[1;32m    312\u001b[0m                     \u001b[0mdata\u001b[0m \u001b[0;34m=\u001b[0m \u001b[0mdata\u001b[0m\u001b[0;34m.\u001b[0m\u001b[0mcopy\u001b[0m\u001b[0;34m(\u001b[0m\u001b[0;34m)\u001b[0m\u001b[0;34m\u001b[0m\u001b[0;34m\u001b[0m\u001b[0m\n\u001b[1;32m    313\u001b[0m             \u001b[0;32melse\u001b[0m\u001b[0;34m:\u001b[0m\u001b[0;34m\u001b[0m\u001b[0;34m\u001b[0m\u001b[0m\n\u001b[0;32m--> 314\u001b[0;31m                 \u001b[0mdata\u001b[0m \u001b[0;34m=\u001b[0m \u001b[0msanitize_array\u001b[0m\u001b[0;34m(\u001b[0m\u001b[0mdata\u001b[0m\u001b[0;34m,\u001b[0m \u001b[0mindex\u001b[0m\u001b[0;34m,\u001b[0m \u001b[0mdtype\u001b[0m\u001b[0;34m,\u001b[0m \u001b[0mcopy\u001b[0m\u001b[0;34m,\u001b[0m \u001b[0mraise_cast_failure\u001b[0m\u001b[0;34m=\u001b[0m\u001b[0;32mTrue\u001b[0m\u001b[0;34m)\u001b[0m\u001b[0;34m\u001b[0m\u001b[0;34m\u001b[0m\u001b[0m\n\u001b[0m\u001b[1;32m    315\u001b[0m \u001b[0;34m\u001b[0m\u001b[0m\n\u001b[1;32m    316\u001b[0m                 \u001b[0mdata\u001b[0m \u001b[0;34m=\u001b[0m \u001b[0mSingleBlockManager\u001b[0m\u001b[0;34m(\u001b[0m\u001b[0mdata\u001b[0m\u001b[0;34m,\u001b[0m \u001b[0mindex\u001b[0m\u001b[0;34m,\u001b[0m \u001b[0mfastpath\u001b[0m\u001b[0;34m=\u001b[0m\u001b[0;32mTrue\u001b[0m\u001b[0;34m)\u001b[0m\u001b[0;34m\u001b[0m\u001b[0;34m\u001b[0m\u001b[0m\n",
      "\u001b[0;32m~/workspace/school_of_ai/projects/air-quality-backend/env/air/lib/python3.7/site-packages/pandas/core/internals/construction.py\u001b[0m in \u001b[0;36msanitize_array\u001b[0;34m(data, index, dtype, copy, raise_cast_failure)\u001b[0m\n\u001b[1;32m    727\u001b[0m     \u001b[0;32melif\u001b[0m \u001b[0msubarr\u001b[0m\u001b[0;34m.\u001b[0m\u001b[0mndim\u001b[0m \u001b[0;34m>\u001b[0m \u001b[0;36m1\u001b[0m\u001b[0;34m:\u001b[0m\u001b[0;34m\u001b[0m\u001b[0;34m\u001b[0m\u001b[0m\n\u001b[1;32m    728\u001b[0m         \u001b[0;32mif\u001b[0m \u001b[0misinstance\u001b[0m\u001b[0;34m(\u001b[0m\u001b[0mdata\u001b[0m\u001b[0;34m,\u001b[0m \u001b[0mnp\u001b[0m\u001b[0;34m.\u001b[0m\u001b[0mndarray\u001b[0m\u001b[0;34m)\u001b[0m\u001b[0;34m:\u001b[0m\u001b[0;34m\u001b[0m\u001b[0;34m\u001b[0m\u001b[0m\n\u001b[0;32m--> 729\u001b[0;31m             \u001b[0;32mraise\u001b[0m \u001b[0mException\u001b[0m\u001b[0;34m(\u001b[0m\u001b[0;34m\"Data must be 1-dimensional\"\u001b[0m\u001b[0;34m)\u001b[0m\u001b[0;34m\u001b[0m\u001b[0;34m\u001b[0m\u001b[0m\n\u001b[0m\u001b[1;32m    730\u001b[0m         \u001b[0;32melse\u001b[0m\u001b[0;34m:\u001b[0m\u001b[0;34m\u001b[0m\u001b[0;34m\u001b[0m\u001b[0m\n\u001b[1;32m    731\u001b[0m             \u001b[0msubarr\u001b[0m \u001b[0;34m=\u001b[0m \u001b[0mcom\u001b[0m\u001b[0;34m.\u001b[0m\u001b[0masarray_tuplesafe\u001b[0m\u001b[0;34m(\u001b[0m\u001b[0mdata\u001b[0m\u001b[0;34m,\u001b[0m \u001b[0mdtype\u001b[0m\u001b[0;34m=\u001b[0m\u001b[0mdtype\u001b[0m\u001b[0;34m)\u001b[0m\u001b[0;34m\u001b[0m\u001b[0;34m\u001b[0m\u001b[0m\n",
      "\u001b[0;31mException\u001b[0m: Data must be 1-dimensional"
     ]
    }
   ],
   "source": [
    "predictionTrain_plot = pd.Series(predictionTrain.T[0], index=indexTrain)\n",
    "targetTrain_plot = pd.Series(targetTrain, index=indexTrain)\n",
    "\n",
    "fig, ax = subplots()\n",
    "targetTrain_plot.plot(figsize=(20,10), fontsize=20, ax=ax)\n",
    "predictionTrain_plot.plot(figsize=(20,10), fontsize=20, ax=ax)\n",
    "ax.set_title(sensorID, fontsize=25)"
   ]
  },
  {
   "cell_type": "markdown",
   "metadata": {},
   "source": [
    "Test set"
   ]
  },
  {
   "cell_type": "code",
   "execution_count": null,
   "metadata": {},
   "outputs": [],
   "source": [
    "predictionTest_plot = pd.Series(prediction.T[0], index=indexTest)\n",
    "targetTest_plot = pd.Series(targetTest, index=indexTest)\n",
    "\n",
    "fig, ax = subplots()\n",
    "targetTest_plot.plot(figsize=(20,10), fontsize=20, ax=ax)\n",
    "predictionTest_plot.plot(figsize=(20,10), fontsize=20, ax=ax)\n",
    "ax.set_title(sensorID, fontsize=25)"
   ]
  },
  {
   "cell_type": "markdown",
   "metadata": {},
   "source": [
    "### Classifier (over threshold)"
   ]
  },
  {
   "cell_type": "code",
   "execution_count": null,
   "metadata": {},
   "outputs": [],
   "source": [
    "dataTrain[\"no2_ip_trend\"] = dataTrain[\"no2_ip\"].apply(lambda x: 1 if x > 40 else 0)"
   ]
  },
  {
   "cell_type": "code",
   "execution_count": null,
   "metadata": {},
   "outputs": [],
   "source": []
  },
  {
   "cell_type": "code",
   "execution_count": null,
   "metadata": {},
   "outputs": [],
   "source": []
  },
  {
   "cell_type": "code",
   "execution_count": null,
   "metadata": {},
   "outputs": [],
   "source": []
  },
  {
   "cell_type": "code",
   "execution_count": null,
   "metadata": {},
   "outputs": [],
   "source": []
  },
  {
   "cell_type": "code",
   "execution_count": null,
   "metadata": {},
   "outputs": [],
   "source": []
  },
  {
   "cell_type": "code",
   "execution_count": null,
   "metadata": {},
   "outputs": [],
   "source": []
  }
 ],
 "metadata": {
  "kernelspec": {
   "display_name": "Python 3",
   "language": "python",
   "name": "python3"
  },
  "language_info": {
   "codemirror_mode": {
    "name": "ipython",
    "version": 3
   },
   "file_extension": ".py",
   "mimetype": "text/x-python",
   "name": "python",
   "nbconvert_exporter": "python",
   "pygments_lexer": "ipython3",
   "version": "3.7.3"
  }
 },
 "nbformat": 4,
 "nbformat_minor": 2
}
